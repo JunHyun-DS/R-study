{
 "cells": [
  {
   "cell_type": "code",
   "execution_count": 42,
   "metadata": {},
   "outputs": [],
   "source": [
    "# encoding='utf-8' 필수!!!\n",
    "source('imposter_module.R', encoding='utf-8')"
   ]
  },
  {
   "cell_type": "code",
   "execution_count": 43,
   "metadata": {},
   "outputs": [],
   "source": [
    "df = data() # 만들어놓은 data 모듈 불러오기\n",
    "\n",
    "df1 = df[[1]] # 범죄현장 데이터\n",
    "df2 = df[[2]] # 범죄후보의 좌표 및 전과횟수"
   ]
  },
  {
   "cell_type": "code",
   "execution_count": 44,
   "metadata": {},
   "outputs": [],
   "source": [
    "# 좌표만 따로해서 데이터 생성\n",
    "df1_location = df1[,-1]\n",
    "df2_location = df2[,-3]"
   ]
  },
  {
   "cell_type": "code",
   "execution_count": 45,
   "metadata": {},
   "outputs": [],
   "source": [
    "# 전처리를 data.frame타입으로 할경우 에러가 나는 경우가 많아서 matrix타입으로 형변환 한다. \n",
    "df1_location_mat = as.matrix(df1_location)\n",
    "df2_location_mat = as.matrix(df2_location)"
   ]
  },
  {
   "cell_type": "code",
   "execution_count": 46,
   "metadata": {},
   "outputs": [
    {
     "data": {
      "image/png": "[encoded data removed]",
      "text/plain": [
       "Plot with title \"범죄현장\""
      ]
     },
     "metadata": {},
     "output_type": "display_data"
    }
   ],
   "source": [
    "# 범죄현장 출력\n",
    "plt_scene(df1, df2) # 빨간점: 마약거래상의 위치, 파란점: 범죄현장"
   ]
  },
  {
   "cell_type": "code",
   "execution_count": 47,
   "metadata": {},
   "outputs": [
    {
     "data": {
      "text/html": [
       "<table>\n",
       "<thead><tr><th scope=col>A</th><th scope=col>B</th><th scope=col>C</th></tr></thead>\n",
       "<tbody>\n",
       "\t<tr><td>5.099020</td><td>7.280110</td><td>6.082763</td></tr>\n",
       "\t<tr><td>4.123106</td><td>3.162278</td><td>4.242641</td></tr>\n",
       "\t<tr><td>5.656854</td><td>6.082763</td><td>3.000000</td></tr>\n",
       "\t<tr><td>5.000000</td><td>5.099020</td><td>3.162278</td></tr>\n",
       "\t<tr><td>3.000000</td><td>3.162278</td><td>9.899495</td></tr>\n",
       "\t<tr><td>5.656854</td><td>2.236068</td><td>8.544004</td></tr>\n",
       "\t<tr><td>6.000000</td><td>3.605551</td><td>4.123106</td></tr>\n",
       "\t<tr><td>4.242641</td><td>5.000000</td><td>4.123106</td></tr>\n",
       "\t<tr><td>4.123106</td><td>3.162278</td><td>4.242641</td></tr>\n",
       "\t<tr><td>6.403124</td><td>6.324555</td><td>2.000000</td></tr>\n",
       "</tbody>\n",
       "</table>\n"
      ],
      "text/latex": [
       "\\begin{tabular}{lll}\n",
       " A & B & C\\\\\n",
       "\\hline\n",
       "\t 5.099020 & 7.280110 & 6.082763\\\\\n",
       "\t 4.123106 & 3.162278 & 4.242641\\\\\n",
       "\t 5.656854 & 6.082763 & 3.000000\\\\\n",
       "\t 5.000000 & 5.099020 & 3.162278\\\\\n",
       "\t 3.000000 & 3.162278 & 9.899495\\\\\n",
       "\t 5.656854 & 2.236068 & 8.544004\\\\\n",
       "\t 6.000000 & 3.605551 & 4.123106\\\\\n",
       "\t 4.242641 & 5.000000 & 4.123106\\\\\n",
       "\t 4.123106 & 3.162278 & 4.242641\\\\\n",
       "\t 6.403124 & 6.324555 & 2.000000\\\\\n",
       "\\end{tabular}\n"
      ],
      "text/markdown": [
       "\n",
       "| A | B | C |\n",
       "|---|---|---|\n",
       "| 5.099020 | 7.280110 | 6.082763 |\n",
       "| 4.123106 | 3.162278 | 4.242641 |\n",
       "| 5.656854 | 6.082763 | 3.000000 |\n",
       "| 5.000000 | 5.099020 | 3.162278 |\n",
       "| 3.000000 | 3.162278 | 9.899495 |\n",
       "| 5.656854 | 2.236068 | 8.544004 |\n",
       "| 6.000000 | 3.605551 | 4.123106 |\n",
       "| 4.242641 | 5.000000 | 4.123106 |\n",
       "| 4.123106 | 3.162278 | 4.242641 |\n",
       "| 6.403124 | 6.324555 | 2.000000 |\n",
       "\n"
      ],
      "text/plain": [
       "      A        B        C       \n",
       " [1,] 5.099020 7.280110 6.082763\n",
       " [2,] 4.123106 3.162278 4.242641\n",
       " [3,] 5.656854 6.082763 3.000000\n",
       " [4,] 5.000000 5.099020 3.162278\n",
       " [5,] 3.000000 3.162278 9.899495\n",
       " [6,] 5.656854 2.236068 8.544004\n",
       " [7,] 6.000000 3.605551 4.123106\n",
       " [8,] 4.242641 5.000000 4.123106\n",
       " [9,] 4.123106 3.162278 4.242641\n",
       "[10,] 6.403124 6.324555 2.000000"
      ]
     },
     "metadata": {},
     "output_type": "display_data"
    }
   ],
   "source": [
    "## 과제1: 각 거래상과 범죄현장의 거리를 계산\n",
    "dis = ed(df1_location_mat, df2_location_mat); dis # 모듈에 있는 유클리디안 함수 이용"
   ]
  },
  {
   "cell_type": "code",
   "execution_count": 48,
   "metadata": {},
   "outputs": [
    {
     "data": {
      "text/html": [
       "<table>\n",
       "<thead><tr><th scope=col>Site</th><th scope=col>Imposter</th></tr></thead>\n",
       "<tbody>\n",
       "\t<tr><td>1 </td><td>A </td></tr>\n",
       "\t<tr><td>2 </td><td>A </td></tr>\n",
       "\t<tr><td>3 </td><td>C </td></tr>\n",
       "\t<tr><td>4 </td><td>A </td></tr>\n",
       "\t<tr><td>5 </td><td>A </td></tr>\n",
       "\t<tr><td>6 </td><td>A </td></tr>\n",
       "\t<tr><td>7 </td><td>A </td></tr>\n",
       "\t<tr><td>8 </td><td>A </td></tr>\n",
       "\t<tr><td>9 </td><td>A </td></tr>\n",
       "\t<tr><td>10</td><td>C </td></tr>\n",
       "</tbody>\n",
       "</table>\n"
      ],
      "text/latex": [
       "\\begin{tabular}{r|ll}\n",
       " Site & Imposter\\\\\n",
       "\\hline\n",
       "\t 1  & A \\\\\n",
       "\t 2  & A \\\\\n",
       "\t 3  & C \\\\\n",
       "\t 4  & A \\\\\n",
       "\t 5  & A \\\\\n",
       "\t 6  & A \\\\\n",
       "\t 7  & A \\\\\n",
       "\t 8  & A \\\\\n",
       "\t 9  & A \\\\\n",
       "\t 10 & C \\\\\n",
       "\\end{tabular}\n"
      ],
      "text/markdown": [
       "\n",
       "| Site | Imposter |\n",
       "|---|---|\n",
       "| 1  | A  |\n",
       "| 2  | A  |\n",
       "| 3  | C  |\n",
       "| 4  | A  |\n",
       "| 5  | A  |\n",
       "| 6  | A  |\n",
       "| 7  | A  |\n",
       "| 8  | A  |\n",
       "| 9  | A  |\n",
       "| 10 | C  |\n",
       "\n"
      ],
      "text/plain": [
       "   Site Imposter\n",
       "1  1    A       \n",
       "2  2    A       \n",
       "3  3    C       \n",
       "4  4    A       \n",
       "5  5    A       \n",
       "6  6    A       \n",
       "7  7    A       \n",
       "8  8    A       \n",
       "9  9    A       \n",
       "10 10   C       "
      ]
     },
     "metadata": {},
     "output_type": "display_data"
    }
   ],
   "source": [
    "## 과제2: 해당거리를 범죄이력으로 나눠서 그 중 최솟값을 갖는 거래상으로 할당하여 출력\n",
    "imposter(df2, dis) # site 별 imposter"
   ]
  }
 ],
 "metadata": {
  "kernelspec": {
   "display_name": "R",
   "language": "R",
   "name": "ir"
  },
  "language_info": {
   "codemirror_mode": "r",
   "file_extension": ".r",
   "mimetype": "text/x-r-source",
   "name": "R",
   "pygments_lexer": "r",
   "version": "3.6.1"
  }
 },
 "nbformat": 4,
 "nbformat_minor": 4
}
