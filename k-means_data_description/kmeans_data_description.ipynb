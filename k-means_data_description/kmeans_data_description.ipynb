{
 "cells": [
  {
   "cell_type": "code",
   "execution_count": 2,
   "metadata": {},
   "outputs": [
    {
     "data": {
      "text/html": [
       "<table>\n",
       "<thead><tr><th scope=col>Sepal.Length</th><th scope=col>Sepal.Width</th><th scope=col>Petal.Length</th><th scope=col>Petal.Width</th></tr></thead>\n",
       "<tbody>\n",
       "\t<tr><td>5.1</td><td>3.5</td><td>1.4</td><td>0.2</td></tr>\n",
       "\t<tr><td>4.9</td><td>3.0</td><td>1.4</td><td>0.2</td></tr>\n",
       "\t<tr><td>4.7</td><td>3.2</td><td>1.3</td><td>0.2</td></tr>\n",
       "\t<tr><td>4.6</td><td>3.1</td><td>1.5</td><td>0.2</td></tr>\n",
       "\t<tr><td>5.0</td><td>3.6</td><td>1.4</td><td>0.2</td></tr>\n",
       "\t<tr><td>5.4</td><td>3.9</td><td>1.7</td><td>0.4</td></tr>\n",
       "</tbody>\n",
       "</table>\n"
      ],
      "text/latex": [
       "\\begin{tabular}{r|llll}\n",
       " Sepal.Length & Sepal.Width & Petal.Length & Petal.Width\\\\\n",
       "\\hline\n",
       "\t 5.1 & 3.5 & 1.4 & 0.2\\\\\n",
       "\t 4.9 & 3.0 & 1.4 & 0.2\\\\\n",
       "\t 4.7 & 3.2 & 1.3 & 0.2\\\\\n",
       "\t 4.6 & 3.1 & 1.5 & 0.2\\\\\n",
       "\t 5.0 & 3.6 & 1.4 & 0.2\\\\\n",
       "\t 5.4 & 3.9 & 1.7 & 0.4\\\\\n",
       "\\end{tabular}\n"
      ],
      "text/markdown": [
       "\n",
       "| Sepal.Length | Sepal.Width | Petal.Length | Petal.Width |\n",
       "|---|---|---|---|\n",
       "| 5.1 | 3.5 | 1.4 | 0.2 |\n",
       "| 4.9 | 3.0 | 1.4 | 0.2 |\n",
       "| 4.7 | 3.2 | 1.3 | 0.2 |\n",
       "| 4.6 | 3.1 | 1.5 | 0.2 |\n",
       "| 5.0 | 3.6 | 1.4 | 0.2 |\n",
       "| 5.4 | 3.9 | 1.7 | 0.4 |\n",
       "\n"
      ],
      "text/plain": [
       "  Sepal.Length Sepal.Width Petal.Length Petal.Width\n",
       "1 5.1          3.5         1.4          0.2        \n",
       "2 4.9          3.0         1.4          0.2        \n",
       "3 4.7          3.2         1.3          0.2        \n",
       "4 4.6          3.1         1.5          0.2        \n",
       "5 5.0          3.6         1.4          0.2        \n",
       "6 5.4          3.9         1.7          0.4        "
      ]
     },
     "metadata": {},
     "output_type": "display_data"
    }
   ],
   "source": [
    "df = iris[,-5]\n",
    "head(df)"
   ]
  },
  {
   "cell_type": "code",
   "execution_count": 3,
   "metadata": {},
   "outputs": [],
   "source": [
    "train = df[1:100,]\n",
    "test = df"
   ]
  },
  {
   "cell_type": "code",
   "execution_count": 4,
   "metadata": {},
   "outputs": [],
   "source": [
    "km = kmeans(train, centers=3, iter.max=100)"
   ]
  },
  {
   "cell_type": "code",
   "execution_count": 5,
   "metadata": {},
   "outputs": [],
   "source": [
    "mat = as.matrix(df)\n",
    "\n",
    "# 각 cluster 별 데이터\n",
    "d1 = mat[km$cluster==1,]\n",
    "d2 = mat[km$cluster==2,]\n",
    "d3 = mat[km$cluster==3,]"
   ]
  },
  {
   "cell_type": "code",
   "execution_count": 6,
   "metadata": {},
   "outputs": [],
   "source": [
    "# 각 cluster 별 평균\n",
    "c1_mean = apply(d1,2, mean)\n",
    "c2_mean = apply(d2, 2, mean)\n",
    "c3_mean = apply(d3, 2, mean)"
   ]
  },
  {
   "cell_type": "code",
   "execution_count": 7,
   "metadata": {},
   "outputs": [
    {
     "data": {
      "text/html": [
       "<table>\n",
       "<thead><tr><th></th><th scope=col>Sepal.Length</th><th scope=col>Sepal.Width</th><th scope=col>Petal.Length</th><th scope=col>Petal.Width</th></tr></thead>\n",
       "<tbody>\n",
       "\t<tr><th scope=row>c1_mean</th><td>5.955882</td><td>3.400000</td><td>3.517647</td><td>1.176471</td></tr>\n",
       "\t<tr><th scope=row>c2_mean</th><td>5.936000</td><td>2.770000</td><td>4.260000</td><td>1.326000</td></tr>\n",
       "\t<tr><th scope=row>c3_mean</th><td>5.715152</td><td>3.098485</td><td>3.501515</td><td>1.115152</td></tr>\n",
       "</tbody>\n",
       "</table>\n"
      ],
      "text/latex": [
       "\\begin{tabular}{r|llll}\n",
       "  & Sepal.Length & Sepal.Width & Petal.Length & Petal.Width\\\\\n",
       "\\hline\n",
       "\tc1\\_mean & 5.955882 & 3.400000 & 3.517647 & 1.176471\\\\\n",
       "\tc2\\_mean & 5.936000 & 2.770000 & 4.260000 & 1.326000\\\\\n",
       "\tc3\\_mean & 5.715152 & 3.098485 & 3.501515 & 1.115152\\\\\n",
       "\\end{tabular}\n"
      ],
      "text/markdown": [
       "\n",
       "| <!--/--> | Sepal.Length | Sepal.Width | Petal.Length | Petal.Width |\n",
       "|---|---|---|---|---|\n",
       "| c1_mean | 5.955882 | 3.400000 | 3.517647 | 1.176471 |\n",
       "| c2_mean | 5.936000 | 2.770000 | 4.260000 | 1.326000 |\n",
       "| c3_mean | 5.715152 | 3.098485 | 3.501515 | 1.115152 |\n",
       "\n"
      ],
      "text/plain": [
       "        Sepal.Length Sepal.Width Petal.Length Petal.Width\n",
       "c1_mean 5.955882     3.400000    3.517647     1.176471   \n",
       "c2_mean 5.936000     2.770000    4.260000     1.326000   \n",
       "c3_mean 5.715152     3.098485    3.501515     1.115152   "
      ]
     },
     "metadata": {},
     "output_type": "display_data"
    }
   ],
   "source": [
    "# clutser_matrix\n",
    "cluster = rbind(c1_mean, c2_mean, c3_mean)\n",
    "\n",
    "cluster"
   ]
  },
  {
   "cell_type": "code",
   "execution_count": 8,
   "metadata": {},
   "outputs": [],
   "source": [
    "train_dist = matrix(0,nrow(train),length(unique(km$cluster)))\n",
    "for (j in 1:length(unique(km$cluster))){\n",
    "  for(i in 1:nrow(train)){\n",
    "    train_dist[i,j] = sqrt(sum((train[i,] - cluster[j,])^2))\n",
    "  }\n",
    "}"
   ]
  },
  {
   "cell_type": "code",
   "execution_count": 9,
   "metadata": {},
   "outputs": [],
   "source": [
    "# min_dist의 cluster를 추출하겠다.\n",
    "train_cluster = matrix(0, nrow(train), 1)\n",
    "for (i in 1:nrow(train)){\n",
    "  train_cluster[i,] = which(train_dist[i,] == min(train_dist[i,])) # row마다 min값의 위치 (cluster 번호)\n",
    "}"
   ]
  },
  {
   "cell_type": "code",
   "execution_count": 10,
   "metadata": {},
   "outputs": [
    {
     "data": {
      "text/html": [
       "<table>\n",
       "<thead><tr><th scope=col>cluster1</th><th scope=col>cluster2</th><th scope=col>cluster3</th><th scope=col>min_dist</th><th scope=col>cluster</th></tr></thead>\n",
       "<tbody>\n",
       "\t<tr><td>2.486053</td><td>3.267916</td><td>2.406968</td><td>2.406968</td><td>3       </td></tr>\n",
       "\t<tr><td>2.590909</td><td>3.251718</td><td>2.434757</td><td>2.434757</td><td>3       </td></tr>\n",
       "\t<tr><td>2.736548</td><td>3.426671</td><td>2.593262</td><td>2.593262</td><td>3       </td></tr>\n",
       "\t<tr><td>2.636818</td><td>3.283180</td><td>2.467211</td><td>2.467211</td><td>3       </td></tr>\n",
       "\t<tr><td>2.528168</td><td>3.318504</td><td>2.452922</td><td>2.452922</td><td>3       </td></tr>\n",
       "\t<tr><td>2.113233</td><td>2.995876</td><td>2.121001</td><td>2.113233</td><td>1       </td></tr>\n",
       "</tbody>\n",
       "</table>\n"
      ],
      "text/latex": [
       "\\begin{tabular}{r|lllll}\n",
       " cluster1 & cluster2 & cluster3 & min\\_dist & cluster\\\\\n",
       "\\hline\n",
       "\t 2.486053 & 3.267916 & 2.406968 & 2.406968 & 3       \\\\\n",
       "\t 2.590909 & 3.251718 & 2.434757 & 2.434757 & 3       \\\\\n",
       "\t 2.736548 & 3.426671 & 2.593262 & 2.593262 & 3       \\\\\n",
       "\t 2.636818 & 3.283180 & 2.467211 & 2.467211 & 3       \\\\\n",
       "\t 2.528168 & 3.318504 & 2.452922 & 2.452922 & 3       \\\\\n",
       "\t 2.113233 & 2.995876 & 2.121001 & 2.113233 & 1       \\\\\n",
       "\\end{tabular}\n"
      ],
      "text/markdown": [
       "\n",
       "| cluster1 | cluster2 | cluster3 | min_dist | cluster |\n",
       "|---|---|---|---|---|\n",
       "| 2.486053 | 3.267916 | 2.406968 | 2.406968 | 3        |\n",
       "| 2.590909 | 3.251718 | 2.434757 | 2.434757 | 3        |\n",
       "| 2.736548 | 3.426671 | 2.593262 | 2.593262 | 3        |\n",
       "| 2.636818 | 3.283180 | 2.467211 | 2.467211 | 3        |\n",
       "| 2.528168 | 3.318504 | 2.452922 | 2.452922 | 3        |\n",
       "| 2.113233 | 2.995876 | 2.121001 | 2.113233 | 1        |\n",
       "\n"
      ],
      "text/plain": [
       "  cluster1 cluster2 cluster3 min_dist cluster\n",
       "1 2.486053 3.267916 2.406968 2.406968 3      \n",
       "2 2.590909 3.251718 2.434757 2.434757 3      \n",
       "3 2.736548 3.426671 2.593262 2.593262 3      \n",
       "4 2.636818 3.283180 2.467211 2.467211 3      \n",
       "5 2.528168 3.318504 2.452922 2.452922 3      \n",
       "6 2.113233 2.995876 2.121001 2.113233 1      "
      ]
     },
     "metadata": {},
     "output_type": "display_data"
    }
   ],
   "source": [
    "train_result = cbind(train_dist, matrix(apply(train_dist,1, min)), train_cluster)\n",
    "\n",
    "colnames(train_result) = c('cluster1', 'cluster2', 'cluster3', 'min_dist', 'cluster')\n",
    "\n",
    "train_result = as.data.frame(train_result)\n",
    "head(train_result)"
   ]
  },
  {
   "cell_type": "code",
   "execution_count": 11,
   "metadata": {},
   "outputs": [
    {
     "name": "stderr",
     "output_type": "stream",
     "text": [
      "\n",
      "Attaching package: 'dplyr'\n",
      "\n",
      "The following objects are masked from 'package:stats':\n",
      "\n",
      "    filter, lag\n",
      "\n",
      "The following objects are masked from 'package:base':\n",
      "\n",
      "    intersect, setdiff, setequal, union\n",
      "\n"
     ]
    },
    {
     "data": {
      "text/html": [
       "<table>\n",
       "<thead><tr><th scope=col>cluster</th><th scope=col>boundary</th></tr></thead>\n",
       "<tbody>\n",
       "\t<tr><td>1       </td><td>2.590228</td></tr>\n",
       "\t<tr><td>2       </td><td>1.231289</td></tr>\n",
       "\t<tr><td>3       </td><td>2.968191</td></tr>\n",
       "</tbody>\n",
       "</table>\n"
      ],
      "text/latex": [
       "\\begin{tabular}{ll}\n",
       " cluster & boundary\\\\\n",
       "\\hline\n",
       "\t 1        & 2.590228\\\\\n",
       "\t 2        & 1.231289\\\\\n",
       "\t 3        & 2.968191\\\\\n",
       "\\end{tabular}\n"
      ],
      "text/markdown": [
       "\n",
       "| cluster | boundary |\n",
       "|---|---|\n",
       "| 1        | 2.590228 |\n",
       "| 2        | 1.231289 |\n",
       "| 3        | 2.968191 |\n",
       "\n"
      ],
      "text/plain": [
       "     cluster boundary\n",
       "[1,] 1       2.590228\n",
       "[2,] 2       1.231289\n",
       "[3,] 3       2.968191"
      ]
     },
     "metadata": {},
     "output_type": "display_data"
    }
   ],
   "source": [
    "# cluster의 boundary 정하기\n",
    "library(dplyr)\n",
    "\n",
    "boundary = train_result %>%\n",
    "  group_by(cluster) %>%\n",
    "  summarize(boundary = max(min_dist))\n",
    "\n",
    "boundary = as.matrix(boundary)\n",
    "\n",
    "boundary"
   ]
  },
  {
   "cell_type": "code",
   "execution_count": 12,
   "metadata": {},
   "outputs": [
    {
     "data": {
      "text/html": [
       "<table>\n",
       "<thead><tr><th scope=col>cluster1</th><th scope=col>cluster2</th><th scope=col>cluster3</th><th scope=col>min_dist</th><th scope=col>cluster</th></tr></thead>\n",
       "<tbody>\n",
       "\t<tr><td>2.486053</td><td>3.267916</td><td>2.406968</td><td>2.406968</td><td>3       </td></tr>\n",
       "\t<tr><td>2.590909</td><td>3.251718</td><td>2.434757</td><td>2.434757</td><td>3       </td></tr>\n",
       "\t<tr><td>2.736548</td><td>3.426671</td><td>2.593262</td><td>2.593262</td><td>3       </td></tr>\n",
       "\t<tr><td>2.636818</td><td>3.283180</td><td>2.467211</td><td>2.467211</td><td>3       </td></tr>\n",
       "\t<tr><td>2.528168</td><td>3.318504</td><td>2.452922</td><td>2.452922</td><td>3       </td></tr>\n",
       "\t<tr><td>2.113233</td><td>2.995876</td><td>2.121001</td><td>2.113233</td><td>1       </td></tr>\n",
       "</tbody>\n",
       "</table>\n"
      ],
      "text/latex": [
       "\\begin{tabular}{r|lllll}\n",
       " cluster1 & cluster2 & cluster3 & min\\_dist & cluster\\\\\n",
       "\\hline\n",
       "\t 2.486053 & 3.267916 & 2.406968 & 2.406968 & 3       \\\\\n",
       "\t 2.590909 & 3.251718 & 2.434757 & 2.434757 & 3       \\\\\n",
       "\t 2.736548 & 3.426671 & 2.593262 & 2.593262 & 3       \\\\\n",
       "\t 2.636818 & 3.283180 & 2.467211 & 2.467211 & 3       \\\\\n",
       "\t 2.528168 & 3.318504 & 2.452922 & 2.452922 & 3       \\\\\n",
       "\t 2.113233 & 2.995876 & 2.121001 & 2.113233 & 1       \\\\\n",
       "\\end{tabular}\n"
      ],
      "text/markdown": [
       "\n",
       "| cluster1 | cluster2 | cluster3 | min_dist | cluster |\n",
       "|---|---|---|---|---|\n",
       "| 2.486053 | 3.267916 | 2.406968 | 2.406968 | 3        |\n",
       "| 2.590909 | 3.251718 | 2.434757 | 2.434757 | 3        |\n",
       "| 2.736548 | 3.426671 | 2.593262 | 2.593262 | 3        |\n",
       "| 2.636818 | 3.283180 | 2.467211 | 2.467211 | 3        |\n",
       "| 2.528168 | 3.318504 | 2.452922 | 2.452922 | 3        |\n",
       "| 2.113233 | 2.995876 | 2.121001 | 2.113233 | 1        |\n",
       "\n"
      ],
      "text/plain": [
       "  cluster1 cluster2 cluster3 min_dist cluster\n",
       "1 2.486053 3.267916 2.406968 2.406968 3      \n",
       "2 2.590909 3.251718 2.434757 2.434757 3      \n",
       "3 2.736548 3.426671 2.593262 2.593262 3      \n",
       "4 2.636818 3.283180 2.467211 2.467211 3      \n",
       "5 2.528168 3.318504 2.452922 2.452922 3      \n",
       "6 2.113233 2.995876 2.121001 2.113233 1      "
      ]
     },
     "metadata": {},
     "output_type": "display_data"
    }
   ],
   "source": [
    "# test dist 구하기\n",
    "test_dist = matrix(0,nrow(test),length(unique(km$cluster)))\n",
    "for (j in 1:length(unique(km$cluster))){\n",
    "  for(i in 1:nrow(test)){\n",
    "    test_dist[i,j] = sqrt(sum((test[i,] - cluster[j,])^2))\n",
    "  }\n",
    "}\n",
    "\n",
    "test_cluster = matrix(0, nrow(test), 1)\n",
    "for (i in 1:nrow(test)){\n",
    "  test_cluster[i,] = which(test_dist[i,] == min(test_dist[i,]))\n",
    "}\n",
    "\n",
    "test_result = cbind(test_dist, matrix(apply(test_dist,1, min)), test_cluster)\n",
    "colnames(test_result) = c('cluster1', 'cluster2', 'cluster3', 'min_dist', 'cluster')\n",
    "test_result = as.data.frame(test_result)\n",
    "\n",
    "head(test_result)"
   ]
  },
  {
   "cell_type": "code",
   "execution_count": 14,
   "metadata": {},
   "outputs": [
    {
     "data": {
      "text/html": [
       "<table>\n",
       "<thead><tr><th scope=col>cluster1</th><th scope=col>cluster2</th><th scope=col>cluster3</th><th scope=col>min_dist</th><th scope=col>cluster</th><th scope=col>outlier</th></tr></thead>\n",
       "<tbody>\n",
       "\t<tr><td>2.486053</td><td>3.267916</td><td>2.406968</td><td>2.406968</td><td>3       </td><td>0       </td></tr>\n",
       "\t<tr><td>2.590909</td><td>3.251718</td><td>2.434757</td><td>2.434757</td><td>3       </td><td>0       </td></tr>\n",
       "\t<tr><td>2.736548</td><td>3.426671</td><td>2.593262</td><td>2.593262</td><td>3       </td><td>0       </td></tr>\n",
       "\t<tr><td>2.636818</td><td>3.283180</td><td>2.467211</td><td>2.467211</td><td>3       </td><td>0       </td></tr>\n",
       "\t<tr><td>2.528168</td><td>3.318504</td><td>2.452922</td><td>2.452922</td><td>3       </td><td>0       </td></tr>\n",
       "\t<tr><td>2.113233</td><td>2.995876</td><td>2.121001</td><td>2.113233</td><td>1       </td><td>0       </td></tr>\n",
       "</tbody>\n",
       "</table>\n"
      ],
      "text/latex": [
       "\\begin{tabular}{r|llllll}\n",
       " cluster1 & cluster2 & cluster3 & min\\_dist & cluster & outlier\\\\\n",
       "\\hline\n",
       "\t 2.486053 & 3.267916 & 2.406968 & 2.406968 & 3        & 0       \\\\\n",
       "\t 2.590909 & 3.251718 & 2.434757 & 2.434757 & 3        & 0       \\\\\n",
       "\t 2.736548 & 3.426671 & 2.593262 & 2.593262 & 3        & 0       \\\\\n",
       "\t 2.636818 & 3.283180 & 2.467211 & 2.467211 & 3        & 0       \\\\\n",
       "\t 2.528168 & 3.318504 & 2.452922 & 2.452922 & 3        & 0       \\\\\n",
       "\t 2.113233 & 2.995876 & 2.121001 & 2.113233 & 1        & 0       \\\\\n",
       "\\end{tabular}\n"
      ],
      "text/markdown": [
       "\n",
       "| cluster1 | cluster2 | cluster3 | min_dist | cluster | outlier |\n",
       "|---|---|---|---|---|---|\n",
       "| 2.486053 | 3.267916 | 2.406968 | 2.406968 | 3        | 0        |\n",
       "| 2.590909 | 3.251718 | 2.434757 | 2.434757 | 3        | 0        |\n",
       "| 2.736548 | 3.426671 | 2.593262 | 2.593262 | 3        | 0        |\n",
       "| 2.636818 | 3.283180 | 2.467211 | 2.467211 | 3        | 0        |\n",
       "| 2.528168 | 3.318504 | 2.452922 | 2.452922 | 3        | 0        |\n",
       "| 2.113233 | 2.995876 | 2.121001 | 2.113233 | 1        | 0        |\n",
       "\n"
      ],
      "text/plain": [
       "  cluster1 cluster2 cluster3 min_dist cluster outlier\n",
       "1 2.486053 3.267916 2.406968 2.406968 3       0      \n",
       "2 2.590909 3.251718 2.434757 2.434757 3       0      \n",
       "3 2.736548 3.426671 2.593262 2.593262 3       0      \n",
       "4 2.636818 3.283180 2.467211 2.467211 3       0      \n",
       "5 2.528168 3.318504 2.452922 2.452922 3       0      \n",
       "6 2.113233 2.995876 2.121001 2.113233 1       0      "
      ]
     },
     "metadata": {},
     "output_type": "display_data"
    }
   ],
   "source": [
    "outlier =  matrix(0, nrow(test_result), 1)\n",
    "\n",
    "c1_outlier = as.matrix(ifelse(test_result[test_result$cluster==1, 4] > boundary[1,2], 1, 0))\n",
    "c2_outlier = as.matrix(ifelse(test_result[test_result$cluster==2, 4] > boundary[2,2], 1, 0))\n",
    "c3_outlier =as.matrix(ifelse(test_result[test_result$cluster==3, 4] > boundary[3,2], 1, 0))\n",
    "\n",
    "outlier = rbind(c1_outlier, c2_outlier, c3_outlier)\n",
    "\n",
    "result = cbind(test_result, outlier)  \n",
    "\n",
    "head(result)"
   ]
  },
  {
   "cell_type": "code",
   "execution_count": 15,
   "metadata": {},
   "outputs": [
    {
     "data": {
      "image/png": "[encoded data removed]",
      "text/plain": [
       "Plot with title \"k-means data description\""
      ]
     },
     "metadata": {},
     "output_type": "display_data"
    }
   ],
   "source": [
    "plot(1:150, result$min_dist, type='o', ylab = 'distance', main='k-means data description', lwd=2, col = result$outlier+1)\n",
    "\n",
    "legend('topright', legend='outlier', pch='o', col='red', box.lty=1, cex=.7)"
   ]
  }
 ],
 "metadata": {
  "kernelspec": {
   "display_name": "R",
   "language": "R",
   "name": "ir"
  },
  "language_info": {
   "name": ""
  }
 },
 "nbformat": 4,
 "nbformat_minor": 4
}
