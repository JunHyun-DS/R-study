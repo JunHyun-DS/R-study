{
 "cells": [
  {
   "cell_type": "markdown",
   "metadata": {},
   "source": [
    "<b><h3> Gradient Descent</h3></b>"
   ]
  },
  {
   "cell_type": "markdown",
   "metadata": {},
   "source": [
    "최적점은 fp(x) = 0일 때 발생\n",
    "&nbsp;\n",
    "\n",
    "gradient descent는 현재의 x와 이전의 x의 차이가 얼마나지 않을 때 <b>fp는 0에 가깝다는 것을 의미</b>하고 최적화된 값이라는 의미\n",
    "&nbsp;\n",
    "\n",
    "h: step size \n",
    "&nbsp;\n",
    "\n",
    "tol: x와 oldx의 차이로 일정 tol보다 작으면 x와 oldx값의 차이가 얼마 나질 않아서 값은 <b>수렴</b>한다는 의미"
   ]
  },
  {
   "cell_type": "code",
   "execution_count": 43,
   "metadata": {},
   "outputs": [],
   "source": [
    "gradient_descent = function(fp, x, h=1e-2, tol=1e-4, m=1e3){\n",
    "  oldx = x\n",
    "  iter=0\n",
    "  x = x-h*fp(x) # initial gradient만큼 이동\n",
    "  while(abs(x-oldx) > tol){\n",
    "    iter=iter+1\n",
    "    if(iter > m) stop('max iteration')\n",
    "    oldx = x\n",
    "    x = x-h*fp(x) # 부호가 +라면 gradient ascent\n",
    "    cat('At iteration ', iter, ' value of x is ', x, '\\n',sep='')\n",
    "  }\n",
    "  return(x)\n",
    "}"
   ]
  },
  {
   "cell_type": "code",
   "execution_count": 44,
   "metadata": {},
   "outputs": [],
   "source": [
    "fd = function(x) 0.25*x^4 +x^3 -x -1\n",
    "fd_expression = expression(0.25*x^4 +x^3 -x -1)\n",
    "fp = function(x) eval(D(fd_expression,'x'))"
   ]
  },
  {
   "cell_type": "code",
   "execution_count": 45,
   "metadata": {},
   "outputs": [
    {
     "name": "stdout",
     "output_type": "stream",
     "text": [
      "At iteration 1 value of x is -4.179615\n",
      "At iteration 2 value of x is -3.963546\n",
      "At iteration 3 value of x is -3.802176\n",
      "At iteration 4 value of x is -3.676209\n",
      "At iteration 5 value of x is -3.574822\n",
      "At iteration 6 value of x is -3.491364\n",
      "At iteration 7 value of x is -3.421468\n",
      "At iteration 8 value of x is -3.362129\n",
      "At iteration 9 value of x is -3.311195\n",
      "At iteration 10 value of x is -3.267075\n",
      "At iteration 11 value of x is -3.228568\n",
      "At iteration 12 value of x is -3.194743\n",
      "At iteration 13 value of x is -3.164867\n",
      "At iteration 14 value of x is -3.138353\n",
      "At iteration 15 value of x is -3.114726\n",
      "At iteration 16 value of x is -3.093596\n",
      "At iteration 17 value of x is -3.074639\n",
      "At iteration 18 value of x is -3.057583\n",
      "At iteration 19 value of x is -3.042199\n",
      "At iteration 20 value of x is -3.028294\n",
      "At iteration 21 value of x is -3.015699\n",
      "At iteration 22 value of x is -3.004271\n",
      "At iteration 23 value of x is -2.993886\n",
      "At iteration 24 value of x is -2.984434\n",
      "At iteration 25 value of x is -2.97582\n",
      "At iteration 26 value of x is -2.967962\n",
      "At iteration 27 value of x is -2.960784\n",
      "At iteration 28 value of x is -2.954222\n",
      "At iteration 29 value of x is -2.948217\n",
      "At iteration 30 value of x is -2.942718\n",
      "At iteration 31 value of x is -2.937678\n",
      "At iteration 32 value of x is -2.933057\n",
      "At iteration 33 value of x is -2.928816\n",
      "At iteration 34 value of x is -2.924922\n",
      "At iteration 35 value of x is -2.921345\n",
      "At iteration 36 value of x is -2.918057\n",
      "At iteration 37 value of x is -2.915035\n",
      "At iteration 38 value of x is -2.912255\n",
      "At iteration 39 value of x is -2.909697\n",
      "At iteration 40 value of x is -2.907342\n",
      "At iteration 41 value of x is -2.905174\n",
      "At iteration 42 value of x is -2.903177\n",
      "At iteration 43 value of x is -2.901338\n",
      "At iteration 44 value of x is -2.899643\n",
      "At iteration 45 value of x is -2.898081\n",
      "At iteration 46 value of x is -2.896641\n",
      "At iteration 47 value of x is -2.895314\n",
      "At iteration 48 value of x is -2.894089\n",
      "At iteration 49 value of x is -2.89296\n",
      "At iteration 50 value of x is -2.891918\n",
      "At iteration 51 value of x is -2.890958\n",
      "At iteration 52 value of x is -2.890071\n",
      "At iteration 53 value of x is -2.889253\n",
      "At iteration 54 value of x is -2.888498\n",
      "At iteration 55 value of x is -2.887801\n",
      "At iteration 56 value of x is -2.887158\n",
      "At iteration 57 value of x is -2.886564\n",
      "At iteration 58 value of x is -2.886015\n",
      "At iteration 59 value of x is -2.885509\n",
      "At iteration 60 value of x is -2.885042\n",
      "At iteration 61 value of x is -2.884611\n",
      "At iteration 62 value of x is -2.884212\n",
      "At iteration 63 value of x is -2.883844\n",
      "At iteration 64 value of x is -2.883504\n",
      "At iteration 65 value of x is -2.88319\n",
      "At iteration 66 value of x is -2.882901\n",
      "At iteration 67 value of x is -2.882633\n",
      "At iteration 68 value of x is -2.882386\n",
      "At iteration 69 value of x is -2.882157\n",
      "At iteration 70 value of x is -2.881946\n",
      "At iteration 71 value of x is -2.881751\n",
      "At iteration 72 value of x is -2.881571\n",
      "At iteration 73 value of x is -2.881405\n",
      "At iteration 74 value of x is -2.881251\n",
      "At iteration 75 value of x is -2.881109\n",
      "At iteration 76 value of x is -2.880978\n",
      "At iteration 77 value of x is -2.880857\n",
      "At iteration 78 value of x is -2.880745\n",
      "At iteration 79 value of x is -2.880642\n",
      "At iteration 80 value of x is -2.880546\n",
      "At iteration 1 value of x is 1.66242\n",
      "At iteration 2 value of x is 1.543567\n",
      "At iteration 3 value of x is 1.445312\n",
      "At iteration 4 value of x is 1.362453\n",
      "At iteration 5 value of x is 1.291474\n",
      "At iteration 6 value of x is 1.229896\n",
      "At iteration 7 value of x is 1.175913\n",
      "At iteration 8 value of x is 1.128169\n",
      "At iteration 9 value of x is 1.085627\n",
      "At iteration 10 value of x is 1.047475\n",
      "At iteration 11 value of x is 1.013066\n",
      "At iteration 12 value of x is 0.9818795\n",
      "At iteration 13 value of x is 0.9534907\n",
      "At iteration 14 value of x is 0.9275478\n",
      "At iteration 15 value of x is 0.9037573\n",
      "At iteration 16 value of x is 0.8818723\n",
      "At iteration 17 value of x is 0.8616831\n",
      "At iteration 18 value of x is 0.8430101\n",
      "At iteration 19 value of x is 0.8256992\n",
      "At iteration 20 value of x is 0.8096164\n",
      "At iteration 21 value of x is 0.7946451\n",
      "At iteration 22 value of x is 0.7806834\n",
      "At iteration 23 value of x is 0.7676414\n",
      "At iteration 24 value of x is 0.7554397\n",
      "At iteration 25 value of x is 0.7440078\n",
      "At iteration 26 value of x is 0.733283\n",
      "At iteration 27 value of x is 0.723209\n",
      "At iteration 28 value of x is 0.7137354\n",
      "At iteration 29 value of x is 0.704817\n",
      "At iteration 30 value of x is 0.6964127\n",
      "At iteration 31 value of x is 0.6884854\n",
      "At iteration 32 value of x is 0.6810015\n",
      "At iteration 33 value of x is 0.6739304\n",
      "At iteration 34 value of x is 0.6672441\n",
      "At iteration 35 value of x is 0.660917\n",
      "At iteration 36 value of x is 0.6549257\n",
      "At iteration 37 value of x is 0.6492487\n",
      "At iteration 38 value of x is 0.6438662\n",
      "At iteration 39 value of x is 0.6387601\n",
      "At iteration 40 value of x is 0.6339134\n",
      "At iteration 41 value of x is 0.6293107\n",
      "At iteration 42 value of x is 0.6249374\n",
      "At iteration 43 value of x is 0.6207804\n",
      "At iteration 44 value of x is 0.616827\n",
      "At iteration 45 value of x is 0.6130659\n",
      "At iteration 46 value of x is 0.6094862\n",
      "At iteration 47 value of x is 0.6060779\n",
      "At iteration 48 value of x is 0.6028317\n",
      "At iteration 49 value of x is 0.5997388\n",
      "At iteration 50 value of x is 0.596791\n",
      "At iteration 51 value of x is 0.5939807\n",
      "At iteration 52 value of x is 0.5913007\n",
      "At iteration 53 value of x is 0.5887442\n",
      "At iteration 54 value of x is 0.5863049\n",
      "At iteration 55 value of x is 0.5839768\n",
      "At iteration 56 value of x is 0.5817544\n",
      "At iteration 57 value of x is 0.5796324\n",
      "At iteration 58 value of x is 0.5776058\n",
      "At iteration 59 value of x is 0.5756699\n",
      "At iteration 60 value of x is 0.5738202\n",
      "At iteration 61 value of x is 0.5720527\n",
      "At iteration 62 value of x is 0.5703634\n",
      "At iteration 63 value of x is 0.5687485\n",
      "At iteration 64 value of x is 0.5672045\n",
      "At iteration 65 value of x is 0.565728\n",
      "At iteration 66 value of x is 0.564316\n",
      "At iteration 67 value of x is 0.5629653\n",
      "At iteration 68 value of x is 0.5616732\n",
      "At iteration 69 value of x is 0.560437\n",
      "At iteration 70 value of x is 0.559254\n",
      "At iteration 71 value of x is 0.5581219\n",
      "At iteration 72 value of x is 0.5570384\n",
      "At iteration 73 value of x is 0.5560012\n",
      "At iteration 74 value of x is 0.5550082\n",
      "At iteration 75 value of x is 0.5540576\n",
      "At iteration 76 value of x is 0.5531474\n",
      "At iteration 77 value of x is 0.5522757\n",
      "At iteration 78 value of x is 0.551441\n",
      "At iteration 79 value of x is 0.5506415\n",
      "At iteration 80 value of x is 0.5498757\n",
      "At iteration 81 value of x is 0.5491422\n",
      "At iteration 82 value of x is 0.5484395\n",
      "At iteration 83 value of x is 0.5477663\n",
      "At iteration 84 value of x is 0.5471213\n",
      "At iteration 85 value of x is 0.5465033\n",
      "At iteration 86 value of x is 0.5459111\n",
      "At iteration 87 value of x is 0.5453436\n",
      "At iteration 88 value of x is 0.5447998\n",
      "At iteration 89 value of x is 0.5442786\n",
      "At iteration 90 value of x is 0.543779\n",
      "At iteration 91 value of x is 0.5433002\n",
      "At iteration 92 value of x is 0.5428413\n",
      "At iteration 93 value of x is 0.5424014\n",
      "At iteration 94 value of x is 0.5419797\n",
      "At iteration 95 value of x is 0.5415754\n",
      "At iteration 96 value of x is 0.5411878\n",
      "At iteration 97 value of x is 0.5408162\n",
      "At iteration 98 value of x is 0.54046\n",
      "At iteration 99 value of x is 0.5401184\n",
      "At iteration 100 value of x is 0.5397909\n",
      "At iteration 101 value of x is 0.5394768\n",
      "At iteration 102 value of x is 0.5391757\n",
      "At iteration 103 value of x is 0.538887\n",
      "At iteration 104 value of x is 0.5386101\n",
      "At iteration 105 value of x is 0.5383445\n",
      "At iteration 106 value of x is 0.5380899\n",
      "At iteration 107 value of x is 0.5378457\n",
      "At iteration 108 value of x is 0.5376115\n",
      "At iteration 109 value of x is 0.5373868\n",
      "At iteration 110 value of x is 0.5371714\n",
      "At iteration 111 value of x is 0.5369648\n",
      "At iteration 112 value of x is 0.5367666\n",
      "At iteration 113 value of x is 0.5365765\n",
      "At iteration 114 value of x is 0.5363942\n",
      "At iteration 115 value of x is 0.5362194\n",
      "At iteration 116 value of x is 0.5360516\n",
      "At iteration 117 value of x is 0.5358907\n",
      "At iteration 118 value of x is 0.5357364\n",
      "At iteration 119 value of x is 0.5355884\n",
      "At iteration 120 value of x is 0.5354464\n",
      "At iteration 121 value of x is 0.5353101\n",
      "At iteration 122 value of x is 0.5351795\n",
      "At iteration 123 value of x is 0.5350541\n",
      "At iteration 124 value of x is 0.5349338\n",
      "At iteration 125 value of x is 0.5348185\n",
      "At iteration 126 value of x is 0.5347078\n",
      "At iteration 127 value of x is 0.5346016\n",
      "At iteration 128 value of x is 0.5344998\n",
      "At iteration 129 value of x is 0.5344021\n"
     ]
    }
   ],
   "source": [
    "x1 = gradient_descent(fp, x=-5)\n",
    "x2 = gradient_descent(fp, x=2)"
   ]
  },
  {
   "cell_type": "code",
   "execution_count": 46,
   "metadata": {},
   "outputs": [
    {
     "name": "stdout",
     "output_type": "stream",
     "text": [
      "x1: -2.880546 \n",
      "x2: 0.5344021"
     ]
    }
   ],
   "source": [
    "cat('x1:' ,x1, '\\n')\n",
    "cat('x2: ', x2, sep='')"
   ]
  },
  {
   "cell_type": "code",
   "execution_count": 48,
   "metadata": {},
   "outputs": [
    {
     "data": {
      "image/png": "[encoded data removed]",
      "text/plain": [
       "plot without title"
      ]
     },
     "metadata": {},
     "output_type": "display_data"
    }
   ],
   "source": [
    "par(mfrow=c(2,1))\n",
    "curve(fd, -5, 2)\n",
    "abline(v=x1, col='red')\n",
    "abline(v=x2, col='red')"
   ]
  },
  {
   "cell_type": "code",
   "execution_count": 49,
   "metadata": {},
   "outputs": [
    {
     "data": {
      "text/html": [
       "-4.80860047419916"
      ],
      "text/latex": [
       "-4.80860047419916"
      ],
      "text/markdown": [
       "-4.80860047419916"
      ],
      "text/plain": [
       "[1] -4.8086"
      ]
     },
     "metadata": {},
     "output_type": "display_data"
    }
   ],
   "source": [
    "fd(x1)"
   ]
  }
 ],
 "metadata": {
  "kernelspec": {
   "display_name": "R",
   "language": "R",
   "name": "ir"
  },
  "language_info": {
   "codemirror_mode": "r",
   "file_extension": ".r",
   "mimetype": "text/x-r-source",
   "name": "R",
   "pygments_lexer": "r",
   "version": "3.6.1"
  }
 },
 "nbformat": 4,
 "nbformat_minor": 4
}
