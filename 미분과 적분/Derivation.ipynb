{
 "cells": [
  {
   "cell_type": "markdown",
   "metadata": {},
   "source": [
    "# 미분(Derivation) with R\n",
    "&nbsp;\n"
   ]
  },
  {
   "cell_type": "markdown",
   "metadata": {},
   "source": [
    "<b>h가 추가 됬을 때 h의 변화량이랑 h의 차이를 보는 것 -> 도함수를 의미한다.</b>"
   ]
  },
  {
   "cell_type": "code",
   "execution_count": 15,
   "metadata": {},
   "outputs": [],
   "source": [
    "fd = function(f,x, h=x*sqrt(.Machine$double.eps)){ # 작은 h\n",
    "  return((f(x+h)-f(x))/h) # 전진차분: 도함수\n",
    "}"
   ]
  },
  {
   "cell_type": "markdown",
   "metadata": {},
   "source": [
    "&nbsp;\n",
    "\n",
    "<b>부동소수점 절단오차 때문에 h가 너무 작아지면 이상한 값이 산출되는데 이상한값이 나오지 않게 하는 h의 최솟값</b>"
   ]
  },
  {
   "cell_type": "code",
   "execution_count": 1,
   "metadata": {},
   "outputs": [
    {
     "data": {
      "text/html": [
       "2.22044604925031e-16"
      ],
      "text/latex": [
       "2.22044604925031e-16"
      ],
      "text/markdown": [
       "2.22044604925031e-16"
      ],
      "text/plain": [
       "[1] 2.220446e-16"
      ]
     },
     "metadata": {},
     "output_type": "display_data"
    }
   ],
   "source": [
    ".Machine$double.eps"
   ]
  },
  {
   "cell_type": "code",
   "execution_count": 27,
   "metadata": {},
   "outputs": [
    {
     "data": {
      "text/html": [
       "<pre class=language-r><code>function (x) \n",
       "-x^2 + 6 * x - 6</code></pre>"
      ],
      "text/latex": [
       "\\begin{minted}{r}\n",
       "function (x) \n",
       "-x\\textasciicircum{}2 + 6 * x - 6\n",
       "\\end{minted}"
      ],
      "text/markdown": [
       "```r\n",
       "function (x) \n",
       "-x^2 + 6 * x - 6\n",
       "```"
      ],
      "text/plain": [
       "function(x) -x^2 +6*x -6"
      ]
     },
     "metadata": {},
     "output_type": "display_data"
    }
   ],
   "source": [
    "# -x^2 + 6x -6의 함수\n",
    "f = function(x) -x^2 +6*x -6\n",
    "f"
   ]
  },
  {
   "cell_type": "markdown",
   "metadata": {},
   "source": [
    "&nbsp;\n",
    "\n",
    "<b>h가 0에 근접할수록 정확값에 근접한다.</b>"
   ]
  },
  {
   "cell_type": "code",
   "execution_count": 26,
   "metadata": {},
   "outputs": [
    {
     "data": {
      "text/html": [
       "1"
      ],
      "text/latex": [
       "1"
      ],
      "text/markdown": [
       "1"
      ],
      "text/plain": [
       "[1] 1"
      ]
     },
     "metadata": {},
     "output_type": "display_data"
    },
    {
     "data": {
      "text/html": [
       "1.5"
      ],
      "text/latex": [
       "1.5"
      ],
      "text/markdown": [
       "1.5"
      ],
      "text/plain": [
       "[1] 1.5"
      ]
     },
     "metadata": {},
     "output_type": "display_data"
    },
    {
     "data": {
      "text/html": [
       "1.90000000000001"
      ],
      "text/latex": [
       "1.90000000000001"
      ],
      "text/markdown": [
       "1.90000000000001"
      ],
      "text/plain": [
       "[1] 1.9"
      ]
     },
     "metadata": {},
     "output_type": "display_data"
    },
    {
     "data": {
      "text/html": [
       "1.99999991679078"
      ],
      "text/latex": [
       "1.99999991679078"
      ],
      "text/markdown": [
       "1.99999991679078"
      ],
      "text/plain": [
       "[1] 2"
      ]
     },
     "metadata": {},
     "output_type": "display_data"
    }
   ],
   "source": [
    "fd(f, 2, h=1)\n",
    "fd(f, 2, h=.5)\n",
    "fd(f, 2, h=.1)\n",
    "fd(f, 2, h=.1e-6)"
   ]
  },
  {
   "cell_type": "markdown",
   "metadata": {},
   "source": [
    "&nbsp;\n",
    "\n",
    "위 그림은 위 코드에 대한 그래프다. ![derivation](https://user-images.githubusercontent.com/60165706/94430784-6936f700-01cf-11eb-8435-cad89b0b1655.png)
![Inkedintegrate_LI](https://user-images.githubusercontent.com/60165706/94430786-6a682400-01cf-11eb-9331-724b59acecad.jpg)  "
   ]
  },
  {
   "cell_type": "markdown",
   "metadata": {},
   "source": [
    "&nbsp;\n",
    "\n",
    "<b>미분이란 시간간격을 최소한으로 좁히면 더 정확한 예측을  할 수 있다는 의미를 가지고 있음</b>\n",
    "\n",
    "h: 시간간격\n",
    "\n",
    "즉 <strong>순간적인 변화율</strong>을 이용해서 정확한 값을 추정하겠다는 것을 의미"
   ]
  },
  {
   "cell_type": "markdown",
   "metadata": {},
   "source": [
    "&nbsp;\n",
    "\n",
    "<b>h가 너무 작은 경우 이상한 값이 산출함을 볼 수 있음</b>\n",
    "- 부동소수점의 절단오차 때문에 발생하는 문제다.\n",
    "- 미분을 유한차분으로 근사화 시킬 때 생기는 오차는 절단오차\n",
    "\n",
    "※ 절단오차는 수학적 연산을 근사화시킬 때 발생하는 오차를 의미"
   ]
  },
  {
   "cell_type": "code",
   "execution_count": 34,
   "metadata": {},
   "outputs": [
    {
     "data": {
      "text/html": [
       "0"
      ],
      "text/latex": [
       "0"
      ],
      "text/markdown": [
       "0"
      ],
      "text/plain": [
       "[1] 0"
      ]
     },
     "metadata": {},
     "output_type": "display_data"
    }
   ],
   "source": [
    "fd(f, 2, h= 1e-20)"
   ]
  },
  {
   "cell_type": "markdown",
   "metadata": {},
   "source": [
    "&nbsp;\n",
    "\n",
    "<b>expression: 함수식을 표현해주는함수</b>\n",
    "- 'x'는 주석을 의미 expression 자체에 영향을 주지 않음"
   ]
  },
  {
   "cell_type": "code",
   "execution_count": 8,
   "metadata": {},
   "outputs": [
    {
     "data": {
      "text/plain": [
       "expression(-x^2 + 6 * x - 6, \"x\")"
      ]
     },
     "metadata": {},
     "output_type": "display_data"
    }
   ],
   "source": [
    "fx = expression(-x^2 +6*x -6, 'x')\n",
    "fx"
   ]
  },
  {
   "cell_type": "markdown",
   "metadata": {},
   "source": [
    "&nbsp;\n",
    "\n",
    "<b>D: Derivation의 약자, 아래코드는 x에 대한 미분을 의미</b>"
   ]
  },
  {
   "cell_type": "code",
   "execution_count": 4,
   "metadata": {},
   "outputs": [
    {
     "data": {
      "text/plain": [
       "6 - 2 * x"
      ]
     },
     "metadata": {},
     "output_type": "display_data"
    }
   ],
   "source": [
    "dfx = D(fx, 'x')\n",
    "dfx"
   ]
  },
  {
   "cell_type": "markdown",
   "metadata": {},
   "source": [
    "&nbsp;\n",
    "\n",
    "<b>eval()함수: expression(함수식)을 풀겠다는 것을 의미</b>"
   ]
  },
  {
   "cell_type": "code",
   "execution_count": 29,
   "metadata": {},
   "outputs": [],
   "source": [
    "f1 = function(x) eval(dfx)\n",
    "f2 = function(x) dfx"
   ]
  },
  {
   "cell_type": "code",
   "execution_count": 12,
   "metadata": {},
   "outputs": [
    {
     "data": {
      "text/html": [
       "2"
      ],
      "text/latex": [
       "2"
      ],
      "text/markdown": [
       "2"
      ],
      "text/plain": [
       "[1] 2"
      ]
     },
     "metadata": {},
     "output_type": "display_data"
    }
   ],
   "source": [
    "f1(2)"
   ]
  },
  {
   "cell_type": "code",
   "execution_count": 13,
   "metadata": {},
   "outputs": [
    {
     "data": {
      "text/plain": [
       "6 - 2 * x"
      ]
     },
     "metadata": {},
     "output_type": "display_data"
    }
   ],
   "source": [
    "f2(2)"
   ]
  },
  {
   "cell_type": "markdown",
   "metadata": {},
   "source": [
    "&nbsp;\n",
    "\n",
    "\n",
    "<b>교수님 코드</b>"
   ]
  },
  {
   "cell_type": "code",
   "execution_count": 6,
   "metadata": {},
   "outputs": [
    {
     "data": {
      "text/html": [
       "2"
      ],
      "text/latex": [
       "2"
      ],
      "text/markdown": [
       "2"
      ],
      "text/plain": [
       "[1] 2"
      ]
     },
     "metadata": {},
     "output_type": "display_data"
    }
   ],
   "source": [
    "f = function(x) eval(c(dfx)[[1]])\n",
    "f(2)"
   ]
  },
  {
   "cell_type": "markdown",
   "metadata": {},
   "source": [
    "<b>나의 코드</b>"
   ]
  },
  {
   "cell_type": "code",
   "execution_count": 14,
   "metadata": {},
   "outputs": [
    {
     "data": {
      "text/html": [
       "2"
      ],
      "text/latex": [
       "2"
      ],
      "text/markdown": [
       "2"
      ],
      "text/plain": [
       "[1] 2"
      ]
     },
     "metadata": {},
     "output_type": "display_data"
    }
   ],
   "source": [
    "f1 = function(x) eval(dfx) # 동일함을 볼 수 있음\n",
    "f1(2) "
   ]
  },
  {
   "cell_type": "markdown",
   "metadata": {},
   "source": [
    "&nbsp;\n",
    "\n",
    "<b>다변수 함수 미분</b>"
   ]
  },
  {
   "cell_type": "code",
   "execution_count": 20,
   "metadata": {},
   "outputs": [
    {
     "data": {
      "text/plain": [
       "expression((x * y)^5 - 1/x^z + cos(x)^x)"
      ]
     },
     "metadata": {},
     "output_type": "display_data"
    }
   ],
   "source": [
    "# 다변수 함수식\n",
    "fxyz = expression((x*y)^5 -1/x^z + cos(x)^x)\n",
    "fxyz"
   ]
  },
  {
   "cell_type": "code",
   "execution_count": 21,
   "metadata": {},
   "outputs": [
    {
     "data": {
      "text/plain": [
       "expression({\n",
       "    .expr1 <- x * y\n",
       "    .expr3 <- x^z\n",
       "    .expr6 <- cos(x)\n",
       "    .expr7 <- .expr6^x\n",
       "    .expr9 <- .expr1^4\n",
       "    .expr15 <- .expr3^2\n",
       "    .value <- .expr1^5 - 1/.expr3 + .expr7\n",
       "    .grad <- array(0, c(length(.value), 3L), list(NULL, c(\"x\", \n",
       "        \"y\", \"z\")))\n",
       "    .grad[, \"x\"] <- 5 * (y * .expr9) + x^(z - 1) * z/.expr15 + \n",
       "        (.expr7 * log(.expr6) - .expr6^(x - 1) * (x * sin(x)))\n",
       "    .grad[, \"y\"] <- 5 * (x * .expr9)\n",
       "    .grad[, \"z\"] <- .expr3 * log(x)/.expr15\n",
       "    attr(.value, \"gradient\") <- .grad\n",
       "    .value\n",
       "})"
      ]
     },
     "metadata": {},
     "output_type": "display_data"
    }
   ],
   "source": [
    "# x,y,z에 대한 미분(전미분)\n",
    "exp = deriv(fxyz, c('x', 'y', 'z'))\n",
    "exp"
   ]
  },
  {
   "cell_type": "code",
   "execution_count": 25,
   "metadata": {},
   "outputs": [
    {
     "data": {
      "text/html": [
       "31.5403023058681"
      ],
      "text/latex": [
       "31.5403023058681"
      ],
      "text/markdown": [
       "31.5403023058681"
      ],
      "text/plain": [
       "[1] 31.5403\n",
       "attr(,\"gradient\")\n",
       "            x  y z\n",
       "[1,] 161.8259 80 0"
      ]
     },
     "metadata": {},
     "output_type": "display_data"
    }
   ],
   "source": [
    "# 미분한 함수를 함수화\n",
    "f = function(x, y, z) eval(c(exp))\n",
    "\n",
    "# 미분한 함수에 대한 값 대입\n",
    "f(1,2,3)"
   ]
  }
 ],
 "metadata": {
  "kernelspec": {
   "display_name": "R",
   "language": "R",
   "name": "ir"
  },
  "language_info": {
   "codemirror_mode": "r",
   "file_extension": ".r",
   "mimetype": "text/x-r-source",
   "name": "R",
   "pygments_lexer": "r",
   "version": "3.6.1"
  }
 },
 "nbformat": 4,
 "nbformat_minor": 4
}
