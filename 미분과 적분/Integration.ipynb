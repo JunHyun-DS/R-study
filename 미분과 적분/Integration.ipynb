{
 "cells": [
  {
   "cell_type": "markdown",
   "metadata": {},
   "source": [
    "# 적분(Integration) with R\n",
    "&nbsp;\n"
   ]
  },
  {
   "cell_type": "code",
   "execution_count": 3,
   "metadata": {},
   "outputs": [
    {
     "data": {
      "text/html": [
       "<pre class=language-r><code>function (x) \n",
       "1/((x + 1) * sqrt(x))</code></pre>"
      ],
      "text/latex": [
       "\\begin{minted}{r}\n",
       "function (x) \n",
       "1/((x + 1) * sqrt(x))\n",
       "\\end{minted}"
      ],
      "text/markdown": [
       "```r\n",
       "function (x) \n",
       "1/((x + 1) * sqrt(x))\n",
       "```"
      ],
      "text/plain": [
       "function(x) 1/((x+1)*sqrt(x))"
      ]
     },
     "metadata": {},
     "output_type": "display_data"
    }
   ],
   "source": [
    "fx = function(x) 1/((x+1)*sqrt(x));fx"
   ]
  },
  {
   "cell_type": "markdown",
   "metadata": {},
   "source": [
    "<b>아래 그림은 위의 함수식을 그래프에 표현한 것</b> \n",
    "<img src = \"https://user-images.githubusercontent.com/60165706/94442792-562c2300-01df-11eb-8f78-457ee10f199f.png\" width=\"500px\">"
   ]
  },
  {
   "cell_type": "markdown",
   "metadata": {},
   "source": [
    "&nbsp;\n",
    "\n",
    "<b>integrate(): 적분</b>"
   ]
  },
  {
   "cell_type": "code",
   "execution_count": 4,
   "metadata": {},
   "outputs": [
    {
     "data": {
      "text/plain": [
       "3.141593 with absolute error < 2.7e-05"
      ]
     },
     "metadata": {},
     "output_type": "display_data"
    }
   ],
   "source": [
    "integrate(fx, lower = 0, upper = Inf)"
   ]
  },
  {
   "cell_type": "markdown",
   "metadata": {},
   "source": [
    "<b>위 코드는 색칠한 부분의 면적을 구하는 코드</b> \n",
    "<img src = \"https://user-images.githubusercontent.com/60165706/94442790-54faf600-01df-11eb-8260-ee4f4ccce451.jpg\" width=\"500px\">\n",
    "\n",
    "&nbsp;\n"
   ]
  },
  {
   "cell_type": "code",
   "execution_count": 5,
   "metadata": {},
   "outputs": [
    {
     "data": {
      "text/html": [
       "<pre class=language-r><code>function (x) \n",
       "x^4 - 10 * x^3 + 15 * x^2 - 6 * x + 10</code></pre>"
      ],
      "text/latex": [
       "\\begin{minted}{r}\n",
       "function (x) \n",
       "x\\textasciicircum{}4 - 10 * x\\textasciicircum{}3 + 15 * x\\textasciicircum{}2 - 6 * x + 10\n",
       "\\end{minted}"
      ],
      "text/markdown": [
       "```r\n",
       "function (x) \n",
       "x^4 - 10 * x^3 + 15 * x^2 - 6 * x + 10\n",
       "```"
      ],
      "text/plain": [
       "function(x) x^4 - 10*x^3 + 15*x^2 -6*x + 10"
      ]
     },
     "metadata": {},
     "output_type": "display_data"
    }
   ],
   "source": [
    "fx = function(x) x^4 - 10*x^3 + 15*x^2 -6*x + 10;fx"
   ]
  },
  {
   "cell_type": "markdown",
   "metadata": {},
   "source": [
    "<b>아래 그림은 위의 함수식을 그래프에 표현한 것</b>  <img src = \"https://user-images.githubusercontent.com/60165706/94442793-56c4b980-01df-11eb-80e8-eac0e5e5703a.png\" width=\"500px\">"
   ]
  },
  {
   "cell_type": "code",
   "execution_count": 6,
   "metadata": {},
   "outputs": [],
   "source": [
    "my_integr = function(a, b, n){\n",
    "  sum=0 # 처음에는 0으로\n",
    "  h=(b-a)/n # 전체구간을 (1-0)을 n개로 나누면 직사각형 밑변의 길이 산출\n",
    "  \n",
    "  for(i in 1:n) sum = sum+h*fx(a+i*h)\n",
    "  # 오른쪽 직사각형으로 가면서 높이f(x)와 h를 곱해가며 더함\n",
    "  return(sum)\n",
    "}"
   ]
  },
  {
   "cell_type": "markdown",
   "metadata": {},
   "source": [
    "&nbsp;\n",
    "\n",
    "<b>위 코드의 설명(아래 그림 참고)</b>\n",
    "\n",
    "h = (b-a) / n: 직사각형 밑변의 길이\n",
    "\n",
    "fx(a+i*h): 각 직사각형의 y값\n",
    "\n",
    "a: 시작값\n",
    "\n",
    "1*h: 1번째 직사각형의 밑변의 길이\n",
    "\n",
    "2*h: 1번째 직사각형의 밑변의 길이 + 2번째 직사각형의 밑변의 길이\n",
    "\n",
    "f(1+h): 1번째 직사각형의 높이\n",
    "\n",
    "f(2+h): 2번째 직사각형의 높이\n",
    "\n",
    "h*f(x): 넓이\n",
    "\n",
    "sum = sum + h*f(x): 면적의 합"
   ]
  },
  {
   "cell_type": "code",
   "execution_count": 7,
   "metadata": {},
   "outputs": [
    {
     "data": {
      "text/html": [
       "9.70333"
      ],
      "text/latex": [
       "9.70333"
      ],
      "text/markdown": [
       "9.70333"
      ],
      "text/plain": [
       "[1] 9.70333"
      ]
     },
     "metadata": {},
     "output_type": "display_data"
    }
   ],
   "source": [
    "my_integr(0,1,10)"
   ]
  },
  {
   "cell_type": "code",
   "execution_count": 8,
   "metadata": {},
   "outputs": [
    {
     "data": {
      "text/plain": [
       "9.7 with absolute error < 1.1e-13"
      ]
     },
     "metadata": {},
     "output_type": "display_data"
    }
   ],
   "source": [
    "integrate(fx, 0, 1)"
   ]
  },
  {
   "cell_type": "markdown",
   "metadata": {},
   "source": [
    "<b> 아래 그림은 위의 반복문을 그래프에 표현한 것</b>  <img src = \"https://user-images.githubusercontent.com/60165706/94442796-588e7d00-01df-11eb-9120-fa3721bf3a8e.png\" width=\"500px\">"
   ]
  },
  {
   "cell_type": "markdown",
   "metadata": {},
   "source": [
    "&nbsp;\n",
    "\n",
    "<b>시뮬레이션을 활용한 수치 적분</b>"
   ]
  },
  {
   "cell_type": "code",
   "execution_count": 9,
   "metadata": {},
   "outputs": [],
   "source": [
    "fx = function(x) x^2"
   ]
  },
  {
   "cell_type": "markdown",
   "metadata": {},
   "source": [
    "<b>아래 그림은 위의 함수식을 그래프로 표현한 것</b> <img src = \"https://user-images.githubusercontent.com/60165706/94442808-5af0d700-01df-11eb-851d-223464bc3cf0.png\" width=\"450px\">"
   ]
  },
  {
   "cell_type": "code",
   "execution_count": 10,
   "metadata": {},
   "outputs": [
    {
     "data": {
      "text/plain": [
       "5.333333 with absolute error < 5.9e-14"
      ]
     },
     "metadata": {},
     "output_type": "display_data"
    }
   ],
   "source": [
    "integrate(fx, -2, 2)"
   ]
  },
  {
   "cell_type": "code",
   "execution_count": 21,
   "metadata": {},
   "outputs": [
    {
     "data": {
      "text/html": [
       "5.32832"
      ],
      "text/latex": [
       "5.32832"
      ],
      "text/markdown": [
       "5.32832"
      ],
      "text/plain": [
       "[1] 5.32832"
      ]
     },
     "metadata": {},
     "output_type": "display_data"
    }
   ],
   "source": [
    "set.seed(132)\n",
    "a = -2\n",
    "b = 2\n",
    "c = 0\n",
    "d = 4\n",
    "n = 10^5\n",
    "\n",
    "# runif: a~b 사이 n만큼의 난수를 만드는 함수\n",
    "x = runif(n,a,b) \n",
    "y = runif(n,c,d)\n",
    "\n",
    "temp = sum(y<fx(x)) / n\n",
    "16 * temp"
   ]
  },
  {
   "cell_type": "markdown",
   "metadata": {},
   "source": [
    "<b>위 코드에 대한 설명</b>\n",
    "\n",
    "sum(y<fx(x)) / n: x^2 아래에 분포한 데이터의 개수\n",
    "\n",
    "n: 데이터의 총 개수\n",
    "\n",
    "temp: x^2 이하의 값들에 대한 비율\n",
    "\n",
    "16 * temp: 면적 * x^2 이하의 비율 = -2~2 적분한 값"
   ]
  },
  {
   "cell_type": "markdown",
   "metadata": {},
   "source": [
    "<b>아래 그림은 위의 결과물을 표현한 것</b> <img src = \"https://user-images.githubusercontent.com/60165706/94442810-5b896d80-01df-11eb-8b6b-6837ae695288.png\" width=\"400\">"
   ]
  }
 ],
 "metadata": {
  "kernelspec": {
   "display_name": "R",
   "language": "R",
   "name": "ir"
  },
  "language_info": {
   "codemirror_mode": "r",
   "file_extension": ".r",
   "mimetype": "text/x-r-source",
   "name": "R",
   "pygments_lexer": "r",
   "version": "3.6.1"
  }
 },
 "nbformat": 4,
 "nbformat_minor": 4
}
