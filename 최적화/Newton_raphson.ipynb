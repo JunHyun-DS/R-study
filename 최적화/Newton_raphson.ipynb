{
 "cells": [
  {
   "cell_type": "markdown",
   "metadata": {},
   "source": [
    "<b><h3> Newton Raphson method</h3></b>"
   ]
  },
  {
   "cell_type": "code",
   "execution_count": 2,
   "metadata": {},
   "outputs": [],
   "source": [
    "newton_raphson=function(f, fp, init, tol = 1e-9, max =100){ # tol은 0에 가까운 값이나 0은 아님  \n",
    "  cat('newton_raphson\\n')\n",
    "  iter = 0 # iteration 시작,\n",
    "  oldx = init  # x0를 의미\n",
    "  x = oldx + 10*tol  #밑에 x-oldx가 tol 보다 커야되는 조건\n",
    "  #converge\n",
    "  while(abs(x-oldx)>tol){ ## 수렴할때까지 run\n",
    "    iter = iter +1\n",
    "    if(iter>max){ \n",
    "      stop('there is no solution')  ## 100번 돌 때까지 수렴하지 않으면 출력\n",
    "    }\n",
    "    oldx = x\n",
    "    x = x -f(x)/fp(x) # 뉴튼랩슨 구현\n",
    "    cat('At iteration', iter, 'value of x is:', x, '\\n')\n",
    "  }\n",
    "  return(paste('solution is', x))      \n",
    "}"
   ]
  },
  {
   "cell_type": "code",
   "execution_count": 3,
   "metadata": {},
   "outputs": [],
   "source": [
    "f = function(x) eval(expression(exp(-x)-x))\n",
    "fp = function(x) eval(D(expression(exp(-x)-x), 'x'))"
   ]
  },
  {
   "cell_type": "code",
   "execution_count": 4,
   "metadata": {},
   "outputs": [
    {
     "name": "stdout",
     "output_type": "stream",
     "text": [
      "newton_raphson\n",
      "At iteration 1 value of x is: 0 \n",
      "At iteration 2 value of x is: 0.5 \n",
      "At iteration 3 value of x is: 0.566311 \n",
      "At iteration 4 value of x is: 0.5671432 \n",
      "At iteration 5 value of x is: 0.5671433 \n",
      "At iteration 6 value of x is: 0.5671433 \n"
     ]
    },
    {
     "data": {
      "text/html": [
       "'solution is 0.567143290409784'"
      ],
      "text/latex": [
       "'solution is 0.567143290409784'"
      ],
      "text/markdown": [
       "'solution is 0.567143290409784'"
      ],
      "text/plain": [
       "[1] \"solution is 0.567143290409784\""
      ]
     },
     "metadata": {},
     "output_type": "display_data"
    }
   ],
   "source": [
    "newton_raphson(f,fp, init=10000)"
   ]
  }
 ],
 "metadata": {
  "kernelspec": {
   "display_name": "R",
   "language": "R",
   "name": "ir"
  },
  "language_info": {
   "codemirror_mode": "r",
   "file_extension": ".r",
   "mimetype": "text/x-r-source",
   "name": "R",
   "pygments_lexer": "r",
   "version": "3.6.1"
  }
 },
 "nbformat": 4,
 "nbformat_minor": 4
}
