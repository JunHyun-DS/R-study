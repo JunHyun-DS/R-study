{
 "cells": [
  {
   "cell_type": "markdown",
   "metadata": {},
   "source": [
    "<b><h3> Gradient Descent</h3></b>"
   ]
  },
  {
   "cell_type": "markdown",
   "metadata": {},
   "source": [
    "최적점은 fp(x) = 0일 때 발생\n",
    "&nbsp;\n",
    "\n",
    "gradient descent는 x와 fp(x)의 차이가 얼마나지 않을 때 <b>fp는 0에 가깝다는 것을 의미</b>하고 최적화된 값이라는 의미\n",
    "&nbsp;\n",
    "\n",
    "h: step size \n",
    "&nbsp;\n",
    "\n",
    "tol: x와 oldx의 차이로 일정 tol보다 작으면 x와 oldx값의 차이가 얼마 나질 않아서 값은 <b>수렴</b>한다는 의미"
   ]
  },
  {
   "cell_type": "code",
   "execution_count": 21,
   "metadata": {},
   "outputs": [],
   "source": [
    "gradient_descent = function(fp, x, h=1e-2, tol=1e-4, m=1e3){\n",
    "  oldx = x\n",
    "  iter=0\n",
    "  x = x-h*fp(x) # initial gradient만큼 이동\n",
    "  while(abs(x-oldx) > tol){\n",
    "    iter=iter+1\n",
    "    if(iter > m) stop('max iteration')\n",
    "    oldx = x\n",
    "    x = x-h*fp(x) # 부호가 +라면 gradient ascent\n",
    "    cat('At iteration ', iter, ' value of x is ', x, '\\n',sep='')\n",
    "  }\n",
    "  return(x)\n",
    "}"
   ]
  },
  {
   "cell_type": "code",
   "execution_count": 22,
   "metadata": {},
   "outputs": [],
   "source": [
    "fp = function() 2*x^2+1"
   ]
  },
  {
   "cell_type": "code",
   "execution_count": 23,
   "metadata": {},
   "outputs": [
    {
     "ename": "ERROR",
     "evalue": "Error in fp(x): 사용되지 않은 인자 (x)\n",
     "output_type": "error",
     "traceback": [
      "Error in fp(x): 사용되지 않은 인자 (x)\nTraceback:\n",
      "1. gradient_descent(fp, x = 1)"
     ]
    }
   ],
   "source": [
    "gradient_descent(fp, x=1)"
   ]
  },
  {
   "cell_type": "code",
   "execution_count": null,
   "metadata": {},
   "outputs": [],
   "source": []
  }
 ],
 "metadata": {
  "kernelspec": {
   "display_name": "R",
   "language": "R",
   "name": "ir"
  },
  "language_info": {
   "codemirror_mode": "r",
   "file_extension": ".r",
   "mimetype": "text/x-r-source",
   "name": "R",
   "pygments_lexer": "r",
   "version": "3.6.1"
  }
 },
 "nbformat": 4,
 "nbformat_minor": 4
}
