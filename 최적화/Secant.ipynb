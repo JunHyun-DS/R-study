{
 "cells": [
  {
   "cell_type": "markdown",
   "metadata": {},
   "source": [
    "<b><h3>Secant method</h3></b>"
   ]
  },
  {
   "cell_type": "code",
   "execution_count": 2,
   "metadata": {},
   "outputs": [],
   "source": [
    "secant = function(f,init,tol = 1e-9,max = 100){\n",
    "  cat('secant\\n')\n",
    "  i = 0\n",
    "  oldx = init\n",
    "  oldfx = f(init) #초기값에 따른 y값\n",
    "  x = oldx +10*tol # 밑에 조건 참고\n",
    "  \n",
    "  # convergence\n",
    "  while(abs(x-oldx)>tol){\n",
    "    i = i+1\n",
    "    \n",
    "    if(i>max) stop(\"there is no solution\")\n",
    "    fx = f(x)                        # 업데이트된 y\n",
    "    newx = x-f(x)*((x-oldx)/(fx-oldfx))  # secant, 할선의 방정식 (즉, y=0을 지나는 x 찾기)\n",
    "    oldx = x                                # 기존 oldX 는 x로 바꿔주고\n",
    "    oldfx = fx                               # oldfx도 fx로 바꿔주고\n",
    "    x = newx                                 # x는 newx로 업데이트\n",
    "    cat(\"iteration\",i,\"value of x is:\", x,\"\\n\")\n",
    "  }\n",
    "    return(paste('solution is', x))      \n",
    "\n",
    "}"
   ]
  },
  {
   "cell_type": "code",
   "execution_count": 3,
   "metadata": {},
   "outputs": [],
   "source": [
    "f = function(x) eval(exp(-x)-x) # f"
   ]
  },
  {
   "cell_type": "code",
   "execution_count": 4,
   "metadata": {},
   "outputs": [
    {
     "name": "stdout",
     "output_type": "stream",
     "text": [
      "secant\n",
      "iteration 1 value of x is: 0 \n",
      "iteration 2 value of x is: 0.9999 \n",
      "iteration 3 value of x is: 0.6126899 \n",
      "iteration 4 value of x is: 0.5638398 \n",
      "iteration 5 value of x is: 0.5671703 \n",
      "iteration 6 value of x is: 0.5671433 \n",
      "iteration 7 value of x is: 0.5671433 \n",
      "iteration 8 value of x is: 0.5671433 \n"
     ]
    },
    {
     "data": {
      "text/html": [
       "0.567143290409784"
      ],
      "text/latex": [
       "0.567143290409784"
      ],
      "text/markdown": [
       "0.567143290409784"
      ],
      "text/plain": [
       "[1] 0.5671433"
      ]
     },
     "metadata": {},
     "output_type": "display_data"
    }
   ],
   "source": [
    "secant(f, 10000)"
   ]
  }
 ],
 "metadata": {
  "kernelspec": {
   "display_name": "R",
   "language": "R",
   "name": "ir"
  },
  "language_info": {
   "codemirror_mode": "r",
   "file_extension": ".r",
   "mimetype": "text/x-r-source",
   "name": "R",
   "pygments_lexer": "r",
   "version": "3.6.1"
  }
 },
 "nbformat": 4,
 "nbformat_minor": 4
}
