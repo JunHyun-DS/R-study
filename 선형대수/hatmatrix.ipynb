{
 "cells": [
  {
   "cell_type": "markdown",
   "metadata": {},
   "source": [
    "<b><h3> Hatmatrix(Linear Regression)</h3></b>"
   ]
  },
  {
   "cell_type": "code",
   "execution_count": 1,
   "metadata": {},
   "outputs": [],
   "source": [
    "df = iris[,-5]\n",
    "mat = as.matrix(df)"
   ]
  },
  {
   "cell_type": "code",
   "execution_count": 2,
   "metadata": {},
   "outputs": [],
   "source": [
    "y = mat[,4]\n",
    "# y절편을 계산하기 위해서 1로 구성된 matrix 생성\n",
    "intercept = matrix(1, nrow(df),1)\n",
    "x = cbind(intercept, mat[,1:3])"
   ]
  },
  {
   "cell_type": "code",
   "execution_count": 4,
   "metadata": {},
   "outputs": [],
   "source": [
    "# Hatmatrix\n",
    "y_hat = x %*% solve(t(x)%*%x) %*% t(x) %*% y \n",
    "ad(y_hat)"
   ]
  },
  {
   "cell_type": "code",
   "execution_count": 6,
   "metadata": {},
   "outputs": [
    {
     "data": {
      "text/html": [
       "<table>\n",
       "<tbody>\n",
       "\t<tr><th scope=row></th><td>-0.2403074</td></tr>\n",
       "\t<tr><th scope=row>Sepal.Length</th><td>-0.2072661</td></tr>\n",
       "\t<tr><th scope=row>Sepal.Width</th><td> 0.2228285</td></tr>\n",
       "\t<tr><th scope=row>Petal.Length</th><td> 0.5240831</td></tr>\n",
       "</tbody>\n",
       "</table>\n"
      ],
      "text/latex": [
       "\\begin{tabular}{r|l}\n",
       "\t & -0.2403074\\\\\n",
       "\tSepal.Length & -0.2072661\\\\\n",
       "\tSepal.Width &  0.2228285\\\\\n",
       "\tPetal.Length &  0.5240831\\\\\n",
       "\\end{tabular}\n"
      ],
      "text/markdown": [
       "\n",
       "|  | -0.2403074 |\n",
       "| Sepal.Length | -0.2072661 |\n",
       "| Sepal.Width |  0.2228285 |\n",
       "| Petal.Length |  0.5240831 |\n",
       "\n"
      ],
      "text/plain": [
       "             [,1]      \n",
       "             -0.2403074\n",
       "Sepal.Length -0.2072661\n",
       "Sepal.Width   0.2228285\n",
       "Petal.Length  0.5240831"
      ]
     },
     "metadata": {},
     "output_type": "display_data"
    }
   ],
   "source": [
    "beta = solve(t(x)%*%x) %*% t(x) %*% y\n",
    "beta"
   ]
  },
  {
   "cell_type": "code",
   "execution_count": 9,
   "metadata": {},
   "outputs": [
    {
     "data": {
      "text/html": [
       "<dl class=dl-horizontal>\n",
       "\t<dt>(Intercept)</dt>\n",
       "\t\t<dd>-0.240307389112259</dd>\n",
       "\t<dt>Sepal.Length</dt>\n",
       "\t\t<dd>-0.207266073757426</dd>\n",
       "\t<dt>Sepal.Width</dt>\n",
       "\t\t<dd>0.22282854386093</dd>\n",
       "\t<dt>Petal.Length</dt>\n",
       "\t\t<dd>0.524083114778429</dd>\n",
       "</dl>\n"
      ],
      "text/latex": [
       "\\begin{description*}\n",
       "\\item[(Intercept)] -0.240307389112259\n",
       "\\item[Sepal.Length] -0.207266073757426\n",
       "\\item[Sepal.Width] 0.22282854386093\n",
       "\\item[Petal.Length] 0.524083114778429\n",
       "\\end{description*}\n"
      ],
      "text/markdown": [
       "(Intercept)\n",
       ":   -0.240307389112259Sepal.Length\n",
       ":   -0.207266073757426Sepal.Width\n",
       ":   0.22282854386093Petal.Length\n",
       ":   0.524083114778429\n",
       "\n"
      ],
      "text/plain": [
       " (Intercept) Sepal.Length  Sepal.Width Petal.Length \n",
       "  -0.2403074   -0.2072661    0.2228285    0.5240831 "
      ]
     },
     "metadata": {},
     "output_type": "display_data"
    }
   ],
   "source": [
    "# Linear Regression Function\n",
    "model = lm(df$Petal.Width~., data=df)\n",
    "coef(model)"
   ]
  },
  {
   "cell_type": "markdown",
   "metadata": {},
   "source": [
    "hatmatrix를 이용해서 구한 beta값과 Linear Regression Function을 이용한 beta값이 같은 것을 볼 수 있다."
   ]
  }
 ],
 "metadata": {
  "kernelspec": {
   "display_name": "R",
   "language": "R",
   "name": "ir"
  },
  "language_info": {
   "codemirror_mode": "r",
   "file_extension": ".r",
   "mimetype": "text/x-r-source",
   "name": "R",
   "pygments_lexer": "r",
   "version": "3.6.1"
  }
 },
 "nbformat": 4,
 "nbformat_minor": 4
}
