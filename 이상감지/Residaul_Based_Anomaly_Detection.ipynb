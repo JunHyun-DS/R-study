{
 "cells": [
  {
   "cell_type": "markdown",
   "metadata": {},
   "source": [
    "<b><h3>Residual Based Anomaly Detection with Hatmatrix (LinearRegression)</h3></b>"
   ]
  },
  {
   "cell_type": "code",
   "execution_count": 1,
   "metadata": {},
   "outputs": [],
   "source": [
    "# residual based anomaly detection\n",
    "m_set_regress <- function(train, test){\n",
    "  \n",
    "  train_intercept = matrix(1, nrow(train), 1)\n",
    "  test_intercept = matrix(1, nrow(test), 1)\n",
    "  y_hat_tr = matrix(0, nrow(train), ncol(train))\n",
    "\n",
    "  for(i in 1:ncol(train)){\n",
    "    y_hat_tr[,i] = cbind(train_intercept, as.matrix(train[,-i])) %*% solve(t(cbind(train_intercept, as.matrix(train[,-i]))) %*% cbind(train_intercept, as.matrix(train[,-i]))) %*% t(cbind(train_intercept, as.matrix(train[,-i]))) %*% as.matrix(train[,i])\n",
    "  }\n",
    "\n",
    "  y_hat_ts = matrix(0, nrow(test), ncol(test))\n",
    "  \n",
    "  for(i in 1:ncol(test)){\n",
    "    y_hat_ts[,i] = cbind(test_intercept, as.matrix(test[,-i])) %*% solve(t(cbind(train_intercept, as.matrix(train[,-i]))) %*% cbind(train_intercept, as.matrix(train[,-i])))%*% t(cbind(train_intercept, as.matrix(train[,-i]))) %*% as.matrix(train[,i])\n",
    "  }\n",
    "    \n",
    "  # residual mat\n",
    "  residual_tr_mat = train - y_hat_tr\n",
    "  residual_ts_mat = test-y_hat_ts\n",
    "  \n",
    "  ret = list(residual_tr = residual_tr_mat, residual_ts = residual_ts_mat)\n",
    "\n",
    "  return(ret)\n",
    "}"
   ]
  },
  {
   "cell_type": "code",
   "execution_count": 10,
   "metadata": {},
   "outputs": [],
   "source": [
    "# 이상/정상 판정의 기준: Bootstrap Control Limit\n",
    "# 추론이 필요한 통계량, 유의확률, 붓스트랩 샘플링 횟수\n",
    "bootlimit <- function(stat, alpha, m){ \n",
    "  sam_mat = matrix(0,1,m)\n",
    "  ucl_mat = matrix(0,1,m)\n",
    "  lcl_mat = matrix(0,1,m)\n",
    "  \n",
    "  for(i in 1:m){\n",
    "    sample_temp = sample(stat, size=length(stat), replace=T, prob=NULL)\n",
    "    ucl = quantile(sample_temp, ((1-(alpha/2))))\n",
    "    lcl = quantile(sample_temp, (alpha)/2)\n",
    "    ucl_mat[,i] = ucl\n",
    "    lcl_mat[,i] = lcl\n",
    "  }\n",
    "  ucl = mean(ucl_mat)\n",
    "  lcl = mean(lcl_mat)  \n",
    "  \n",
    "  ret = list(ucl=ucl, lcl=lcl)\n",
    "  \n",
    "  return(ret)\n",
    "}"
   ]
  },
  {
   "cell_type": "code",
   "execution_count": 11,
   "metadata": {},
   "outputs": [],
   "source": [
    "data_wd = 'C:\\\\Users\\\\User\\\\Desktop\\\\수업\\\\경영캡스톤\\\\NASA베어링데이터셋\\\\archive\\\\2nd_test\\\\RMS_bearing.csv'\n",
    "\n",
    "bearing = read.table(data_wd, header=T, sep=',')\n",
    "\n",
    "bearing_mat = as.matrix(bearing)"
   ]
  },
  {
   "cell_type": "code",
   "execution_count": 12,
   "metadata": {},
   "outputs": [],
   "source": [
    "train = bearing[1:900,]\n",
    "test = bearing"
   ]
  },
  {
   "cell_type": "code",
   "execution_count": 13,
   "metadata": {},
   "outputs": [],
   "source": [
    "fit = m_set_regress(train, test)"
   ]
  },
  {
   "cell_type": "code",
   "execution_count": 14,
   "metadata": {},
   "outputs": [],
   "source": [
    "# bootstrap based UCL, LCL\n",
    "limits = matrix(0, 2, ncol(test))\n",
    "for(i in 1:ncol(train)){\n",
    "  cl = bootlimit(fit$residual_tr[,i], 0.05, m=100)\n",
    "  limits[1,i] = cl$ucl\n",
    "  limits[2,i] = cl$lcl\n",
    "}"
   ]
  },
  {
   "cell_type": "code",
   "execution_count": 15,
   "metadata": {},
   "outputs": [
    {
     "data": {
      "image/png": "[encoded data removed]",
      "text/plain": [
       "plot without title"
      ]
     },
     "metadata": {},
     "output_type": "display_data"
    }
   ],
   "source": [
    "par(mfrow = c(4,1))\n",
    "for(i in 1:ncol(test)){\n",
    "  plot(fit$residual_ts[,i], col=1, lwd=2, type='o', ylab='residual', xlab=paste('c', i, sep=''))\n",
    "  abline(h=limits[1,i], col='red', lwd=2)\n",
    "  abline(h=limits[2,i], col='red', lwd=2)\n",
    "  abline(v = which(fit$residual_ts[,i]> limits[1,i] | fit$residual_ts[,i] < limits[2,i]), col='red', lty=2, lwd=2)\n",
    "}"
   ]
  }
 ],
 "metadata": {
  "kernelspec": {
   "display_name": "R",
   "language": "R",
   "name": "ir"
  },
  "language_info": {
   "codemirror_mode": "r",
   "file_extension": ".r",
   "mimetype": "text/x-r-source",
   "name": "R",
   "pygments_lexer": "r",
   "version": "3.6.1"
  }
 },
 "nbformat": 4,
 "nbformat_minor": 4
}
