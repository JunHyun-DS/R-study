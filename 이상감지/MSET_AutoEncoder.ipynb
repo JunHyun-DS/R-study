{
 "cells": [
  {
   "cell_type": "markdown",
   "metadata": {},
   "source": [
    "<b><h3>MSET AutoEncoder</h3></b>"
   ]
  },
  {
   "cell_type": "markdown",
   "metadata": {},
   "source": [
    "MSET기법을 이용 train 정상 데이터만을 학습 시켜서 test data에서 이상을 판단\n",
    "&nbsp;\n",
    "\n",
    "bootstrap 기법을 이용해서 UCL, LCL을 정의 후\n",
    "&nbsp;\n",
    "\n",
    "AutoEncoder에서 나온 reconstruction error를 이용해서 이상감지 알고리즘을 구현"
   ]
  },
  {
   "cell_type": "code",
   "execution_count": 23,
   "metadata": {},
   "outputs": [],
   "source": [
    "data = read.csv(\"C:\\\\Users\\\\User\\\\Desktop\\\\수업\\\\빅데이터분석실무\\\\data\\\\eeg_tr.txt\")"
   ]
  },
  {
   "cell_type": "code",
   "execution_count": 24,
   "metadata": {},
   "outputs": [],
   "source": [
    "# train 데이터를 정상데이터라고 가정\n",
    "train_mat = as.matrix(data[1:3000,3:ncol(data)])\n",
    "test_mat = as.matrix(data[3001:nrow(data), 3:ncol(data)])"
   ]
  },
  {
   "cell_type": "code",
   "execution_count": 25,
   "metadata": {},
   "outputs": [
    {
     "data": {
      "text/html": [
       "<table>\n",
       "<thead><tr><th scope=col>c1</th><th scope=col>c2</th><th scope=col>c3</th><th scope=col>c4</th><th scope=col>c6</th><th scope=col>c7</th><th scope=col>c8</th><th scope=col>c10</th><th scope=col>c11</th><th scope=col>c12</th><th scope=col>c13</th><th scope=col>c14</th><th scope=col>c17</th><th scope=col>c18</th><th scope=col>c19</th><th scope=col>c20</th><th scope=col>c21</th><th scope=col>c22</th></tr></thead>\n",
       "<tbody>\n",
       "\t<tr><td> 15.925749 </td><td>-12.698804 </td><td>-32.0735010</td><td>-16.323747 </td><td> -6.323903 </td><td>-19.4486982</td><td>-27.323575 </td><td> 10.050841 </td><td>  5.0509189</td><td> 4.175933  </td><td>  8.300868 </td><td> 6.925890  </td><td>  1.80097  </td><td>  0.5509893</td><td> 0.05099707</td><td> 3.550942  </td><td>-5.698913  </td><td> 126.04903 </td></tr>\n",
       "\t<tr><td>-61.198046 </td><td>-19.198702 </td><td> -5.6989131</td><td>  8.300868 </td><td>-22.823646 </td><td> -2.6989600</td><td> 22.925640 </td><td>-36.073438 </td><td>-34.6984600</td><td>-6.323903  </td><td>-17.573728 </td><td>-5.698913  </td><td>-30.57352  </td><td>-23.9486279</td><td> 0.05099707</td><td> 1.300978  </td><td> 9.550849  </td><td>  17.55072 </td></tr>\n",
       "\t<tr><td>-36.573431 </td><td>-20.573681 </td><td> -3.1989521</td><td>  6.550896 </td><td>-33.073485 </td><td>  0.9259834</td><td> 30.050528 </td><td>-24.448620 </td><td>-18.9487060</td><td> 5.300915  </td><td>-19.448698 </td><td>-5.823911  </td><td>-16.07375  </td><td> -1.0739854</td><td>-0.32399707</td><td> 9.300853  </td><td>11.300821  </td><td>-129.57198 </td></tr>\n",
       "\t<tr><td>  5.675909 </td><td> 12.300806 </td><td>  0.1759951</td><td>  5.300915 </td><td> 46.050278 </td><td> 10.9258271</td><td> 45.675284 </td><td>  8.425866 </td><td> -0.4489951</td><td>-3.073954  </td><td>  6.050903 </td><td> 1.425976  </td><td> 26.55058  </td><td>  5.8009072</td><td>-0.07400098</td><td>30.050528  </td><td> 7.425882  </td><td> -63.32301 </td></tr>\n",
       "\t<tr><td>  7.675878 </td><td>  3.050950 </td><td> -7.8238799</td><td> -4.948925 </td><td>-17.448729 </td><td> -2.3239658</td><td>  5.800907 </td><td>  2.675956 </td><td> 13.5507861</td><td>11.800813  </td><td>  2.550958 </td><td> 7.175886  </td><td> 13.55079  </td><td> -0.4489951</td><td> 0.30099316</td><td>28.550552  </td><td>17.675722  </td><td>  27.42557 </td></tr>\n",
       "\t<tr><td> -2.698960 </td><td> -4.448933 </td><td> -1.5739775</td><td>  5.675909 </td><td>  5.425913 </td><td>  5.4259131</td><td> 23.425632 </td><td> -6.198905 </td><td>  8.6758623</td><td> 3.050950  </td><td>  7.800876 </td><td> 9.050856  </td><td>-12.07381  </td><td>  0.9259834</td><td> 0.17599512</td><td>13.300790  </td><td>10.300837  </td><td> -62.94802 </td></tr>\n",
       "</tbody>\n",
       "</table>\n"
      ],
      "text/latex": [
       "\\begin{tabular}{r|llllllllllllllllll}\n",
       " c1 & c2 & c3 & c4 & c6 & c7 & c8 & c10 & c11 & c12 & c13 & c14 & c17 & c18 & c19 & c20 & c21 & c22\\\\\n",
       "\\hline\n",
       "\t  15.925749  & -12.698804  & -32.0735010 & -16.323747  &  -6.323903  & -19.4486982 & -27.323575  &  10.050841  &   5.0509189 &  4.175933   &   8.300868  &  6.925890   &   1.80097   &   0.5509893 &  0.05099707 &  3.550942   & -5.698913   &  126.04903 \\\\\n",
       "\t -61.198046  & -19.198702  &  -5.6989131 &   8.300868  & -22.823646  &  -2.6989600 &  22.925640  & -36.073438  & -34.6984600 & -6.323903   & -17.573728  & -5.698913   & -30.57352   & -23.9486279 &  0.05099707 &  1.300978   &  9.550849   &   17.55072 \\\\\n",
       "\t -36.573431  & -20.573681  &  -3.1989521 &   6.550896  & -33.073485  &   0.9259834 &  30.050528  & -24.448620  & -18.9487060 &  5.300915   & -19.448698  & -5.823911   & -16.07375   &  -1.0739854 & -0.32399707 &  9.300853   & 11.300821   & -129.57198 \\\\\n",
       "\t   5.675909  &  12.300806  &   0.1759951 &   5.300915  &  46.050278  &  10.9258271 &  45.675284  &   8.425866  &  -0.4489951 & -3.073954   &   6.050903  &  1.425976   &  26.55058   &   5.8009072 & -0.07400098 & 30.050528   &  7.425882   &  -63.32301 \\\\\n",
       "\t   7.675878  &   3.050950  &  -7.8238799 &  -4.948925  & -17.448729  &  -2.3239658 &   5.800907  &   2.675956  &  13.5507861 & 11.800813   &   2.550958  &  7.175886   &  13.55079   &  -0.4489951 &  0.30099316 & 28.550552   & 17.675722   &   27.42557 \\\\\n",
       "\t  -2.698960  &  -4.448933  &  -1.5739775 &   5.675909  &   5.425913  &   5.4259131 &  23.425632  &  -6.198905  &   8.6758623 &  3.050950   &   7.800876  &  9.050856   & -12.07381   &   0.9259834 &  0.17599512 & 13.300790   & 10.300837   &  -62.94802 \\\\\n",
       "\\end{tabular}\n"
      ],
      "text/markdown": [
       "\n",
       "| c1 | c2 | c3 | c4 | c6 | c7 | c8 | c10 | c11 | c12 | c13 | c14 | c17 | c18 | c19 | c20 | c21 | c22 |\n",
       "|---|---|---|---|---|---|---|---|---|---|---|---|---|---|---|---|---|---|\n",
       "|  15.925749  | -12.698804  | -32.0735010 | -16.323747  |  -6.323903  | -19.4486982 | -27.323575  |  10.050841  |   5.0509189 |  4.175933   |   8.300868  |  6.925890   |   1.80097   |   0.5509893 |  0.05099707 |  3.550942   | -5.698913   |  126.04903  |\n",
       "| -61.198046  | -19.198702  |  -5.6989131 |   8.300868  | -22.823646  |  -2.6989600 |  22.925640  | -36.073438  | -34.6984600 | -6.323903   | -17.573728  | -5.698913   | -30.57352   | -23.9486279 |  0.05099707 |  1.300978   |  9.550849   |   17.55072  |\n",
       "| -36.573431  | -20.573681  |  -3.1989521 |   6.550896  | -33.073485  |   0.9259834 |  30.050528  | -24.448620  | -18.9487060 |  5.300915   | -19.448698  | -5.823911   | -16.07375   |  -1.0739854 | -0.32399707 |  9.300853   | 11.300821   | -129.57198  |\n",
       "|   5.675909  |  12.300806  |   0.1759951 |   5.300915  |  46.050278  |  10.9258271 |  45.675284  |   8.425866  |  -0.4489951 | -3.073954   |   6.050903  |  1.425976   |  26.55058   |   5.8009072 | -0.07400098 | 30.050528   |  7.425882   |  -63.32301  |\n",
       "|   7.675878  |   3.050950  |  -7.8238799 |  -4.948925  | -17.448729  |  -2.3239658 |   5.800907  |   2.675956  |  13.5507861 | 11.800813   |   2.550958  |  7.175886   |  13.55079   |  -0.4489951 |  0.30099316 | 28.550552   | 17.675722   |   27.42557  |\n",
       "|  -2.698960  |  -4.448933  |  -1.5739775 |   5.675909  |   5.425913  |   5.4259131 |  23.425632  |  -6.198905  |   8.6758623 |  3.050950   |   7.800876  |  9.050856   | -12.07381   |   0.9259834 |  0.17599512 | 13.300790   | 10.300837   |  -62.94802  |\n",
       "\n"
      ],
      "text/plain": [
       "  c1         c2         c3          c4         c6         c7         \n",
       "1  15.925749 -12.698804 -32.0735010 -16.323747  -6.323903 -19.4486982\n",
       "2 -61.198046 -19.198702  -5.6989131   8.300868 -22.823646  -2.6989600\n",
       "3 -36.573431 -20.573681  -3.1989521   6.550896 -33.073485   0.9259834\n",
       "4   5.675909  12.300806   0.1759951   5.300915  46.050278  10.9258271\n",
       "5   7.675878   3.050950  -7.8238799  -4.948925 -17.448729  -2.3239658\n",
       "6  -2.698960  -4.448933  -1.5739775   5.675909   5.425913   5.4259131\n",
       "  c8         c10        c11         c12       c13        c14       c17      \n",
       "1 -27.323575  10.050841   5.0509189  4.175933   8.300868  6.925890   1.80097\n",
       "2  22.925640 -36.073438 -34.6984600 -6.323903 -17.573728 -5.698913 -30.57352\n",
       "3  30.050528 -24.448620 -18.9487060  5.300915 -19.448698 -5.823911 -16.07375\n",
       "4  45.675284   8.425866  -0.4489951 -3.073954   6.050903  1.425976  26.55058\n",
       "5   5.800907   2.675956  13.5507861 11.800813   2.550958  7.175886  13.55079\n",
       "6  23.425632  -6.198905   8.6758623  3.050950   7.800876  9.050856 -12.07381\n",
       "  c18         c19         c20       c21       c22       \n",
       "1   0.5509893  0.05099707  3.550942 -5.698913  126.04903\n",
       "2 -23.9486279  0.05099707  1.300978  9.550849   17.55072\n",
       "3  -1.0739854 -0.32399707  9.300853 11.300821 -129.57198\n",
       "4   5.8009072 -0.07400098 30.050528  7.425882  -63.32301\n",
       "5  -0.4489951  0.30099316 28.550552 17.675722   27.42557\n",
       "6   0.9259834  0.17599512 13.300790 10.300837  -62.94802"
      ]
     },
     "metadata": {},
     "output_type": "display_data"
    },
    {
     "data": {
      "text/html": [
       "<table>\n",
       "<thead><tr><th></th><th scope=col>c1</th><th scope=col>c2</th><th scope=col>c3</th><th scope=col>c4</th><th scope=col>c6</th><th scope=col>c7</th><th scope=col>c8</th><th scope=col>c10</th><th scope=col>c11</th><th scope=col>c12</th><th scope=col>c13</th><th scope=col>c14</th><th scope=col>c17</th><th scope=col>c18</th><th scope=col>c19</th><th scope=col>c20</th><th scope=col>c21</th><th scope=col>c22</th></tr></thead>\n",
       "<tbody>\n",
       "\t<tr><th scope=row>3001</th><td>-142.94677 </td><td>-72.69787  </td><td>-36.94842  </td><td>-28.698554 </td><td>-20.573681 </td><td>-24.823614 </td><td>-16.448745 </td><td> -97.94747 </td><td>-47.19826  </td><td>-29.94853  </td><td>-119.94713 </td><td>-59.448073 </td><td>-74.57284  </td><td>-34.94846  </td><td>-0.32399707</td><td> -7.82388  </td><td>-18.323716 </td><td>-171.321325</td></tr>\n",
       "\t<tr><th scope=row>3002</th><td>-155.32158 </td><td>-68.44793  </td><td>-36.07344  </td><td>-20.698679 </td><td>-23.948628 </td><td>-15.073767 </td><td>-11.073829 </td><td>-108.94730 </td><td>-54.94814  </td><td>-31.44851  </td><td>-140.44681 </td><td>-34.823458 </td><td>-87.57263  </td><td>-43.69832  </td><td>-0.07400098</td><td> 33.80047  </td><td> -9.948847 </td><td> 600.041622</td></tr>\n",
       "\t<tr><th scope=row>3003</th><td> -96.82249 </td><td>-50.19822  </td><td>-10.07384  </td><td>-15.448761 </td><td> -9.948847 </td><td> -4.823927 </td><td>-34.573462 </td><td> -80.44775 </td><td>-25.69860  </td><td>-11.57382  </td><td>-129.82197 </td><td>-28.073563 </td><td>-46.44828  </td><td>-21.44867  </td><td>-0.44899512</td><td> 15.05076  </td><td>-23.698632 </td><td>  30.800517</td></tr>\n",
       "\t<tr><th scope=row>3004</th><td> -68.82293 </td><td>-38.19841  </td><td>-19.57370  </td><td> -9.323856 </td><td>  6.050903 </td><td>  3.175948 </td><td>  5.925905 </td><td> -47.57326 </td><td>-19.07370  </td><td>-11.07383  </td><td> -97.07249 </td><td> -7.698882 </td><td>-32.82349  </td><td>-19.94869  </td><td>-0.07400098</td><td> 13.05079  </td><td> -6.448901 </td><td> 100.049435</td></tr>\n",
       "\t<tr><th scope=row>3005</th><td> 101.42441 </td><td> 35.30045  </td><td> 20.17568  </td><td> 14.300774 </td><td> 83.674690 </td><td> 32.550489 </td><td> 56.925108 </td><td>  28.80055 </td><td> 22.80064  </td><td> 15.80075  </td><td>  52.05018 </td><td> 40.550364 </td><td> 37.55041  </td><td> 16.30074  </td><td>-0.07400098</td><td> 78.17478  </td><td> 55.175136 </td><td>  90.049591</td></tr>\n",
       "\t<tr><th scope=row>3006</th><td>  71.42488 </td><td> 19.05070  </td><td> 21.05067  </td><td> 16.050747 </td><td>  6.175901 </td><td> 18.300712 </td><td> 13.175792 </td><td>  46.42527 </td><td> 36.42543  </td><td> 11.80081  </td><td>  43.92531 </td><td> 22.300649 </td><td> 53.30017  </td><td> 39.17539  </td><td> 0.17599512</td><td>-12.82380  </td><td> -1.448979 </td><td>   8.925858</td></tr>\n",
       "</tbody>\n",
       "</table>\n"
      ],
      "text/latex": [
       "\\begin{tabular}{r|llllllllllllllllll}\n",
       "  & c1 & c2 & c3 & c4 & c6 & c7 & c8 & c10 & c11 & c12 & c13 & c14 & c17 & c18 & c19 & c20 & c21 & c22\\\\\n",
       "\\hline\n",
       "\t3001 & -142.94677  & -72.69787   & -36.94842   & -28.698554  & -20.573681  & -24.823614  & -16.448745  &  -97.94747  & -47.19826   & -29.94853   & -119.94713  & -59.448073  & -74.57284   & -34.94846   & -0.32399707 &  -7.82388   & -18.323716  & -171.321325\\\\\n",
       "\t3002 & -155.32158  & -68.44793   & -36.07344   & -20.698679  & -23.948628  & -15.073767  & -11.073829  & -108.94730  & -54.94814   & -31.44851   & -140.44681  & -34.823458  & -87.57263   & -43.69832   & -0.07400098 &  33.80047   &  -9.948847  &  600.041622\\\\\n",
       "\t3003 &  -96.82249  & -50.19822   & -10.07384   & -15.448761  &  -9.948847  &  -4.823927  & -34.573462  &  -80.44775  & -25.69860   & -11.57382   & -129.82197  & -28.073563  & -46.44828   & -21.44867   & -0.44899512 &  15.05076   & -23.698632  &   30.800517\\\\\n",
       "\t3004 &  -68.82293  & -38.19841   & -19.57370   &  -9.323856  &   6.050903  &   3.175948  &   5.925905  &  -47.57326  & -19.07370   & -11.07383   &  -97.07249  &  -7.698882  & -32.82349   & -19.94869   & -0.07400098 &  13.05079   &  -6.448901  &  100.049435\\\\\n",
       "\t3005 &  101.42441  &  35.30045   &  20.17568   &  14.300774  &  83.674690  &  32.550489  &  56.925108  &   28.80055  &  22.80064   &  15.80075   &   52.05018  &  40.550364  &  37.55041   &  16.30074   & -0.07400098 &  78.17478   &  55.175136  &   90.049591\\\\\n",
       "\t3006 &   71.42488  &  19.05070   &  21.05067   &  16.050747  &   6.175901  &  18.300712  &  13.175792  &   46.42527  &  36.42543   &  11.80081   &   43.92531  &  22.300649  &  53.30017   &  39.17539   &  0.17599512 & -12.82380   &  -1.448979  &    8.925858\\\\\n",
       "\\end{tabular}\n"
      ],
      "text/markdown": [
       "\n",
       "| <!--/--> | c1 | c2 | c3 | c4 | c6 | c7 | c8 | c10 | c11 | c12 | c13 | c14 | c17 | c18 | c19 | c20 | c21 | c22 |\n",
       "|---|---|---|---|---|---|---|---|---|---|---|---|---|---|---|---|---|---|---|\n",
       "| 3001 | -142.94677  | -72.69787   | -36.94842   | -28.698554  | -20.573681  | -24.823614  | -16.448745  |  -97.94747  | -47.19826   | -29.94853   | -119.94713  | -59.448073  | -74.57284   | -34.94846   | -0.32399707 |  -7.82388   | -18.323716  | -171.321325 |\n",
       "| 3002 | -155.32158  | -68.44793   | -36.07344   | -20.698679  | -23.948628  | -15.073767  | -11.073829  | -108.94730  | -54.94814   | -31.44851   | -140.44681  | -34.823458  | -87.57263   | -43.69832   | -0.07400098 |  33.80047   |  -9.948847  |  600.041622 |\n",
       "| 3003 |  -96.82249  | -50.19822   | -10.07384   | -15.448761  |  -9.948847  |  -4.823927  | -34.573462  |  -80.44775  | -25.69860   | -11.57382   | -129.82197  | -28.073563  | -46.44828   | -21.44867   | -0.44899512 |  15.05076   | -23.698632  |   30.800517 |\n",
       "| 3004 |  -68.82293  | -38.19841   | -19.57370   |  -9.323856  |   6.050903  |   3.175948  |   5.925905  |  -47.57326  | -19.07370   | -11.07383   |  -97.07249  |  -7.698882  | -32.82349   | -19.94869   | -0.07400098 |  13.05079   |  -6.448901  |  100.049435 |\n",
       "| 3005 |  101.42441  |  35.30045   |  20.17568   |  14.300774  |  83.674690  |  32.550489  |  56.925108  |   28.80055  |  22.80064   |  15.80075   |   52.05018  |  40.550364  |  37.55041   |  16.30074   | -0.07400098 |  78.17478   |  55.175136  |   90.049591 |\n",
       "| 3006 |   71.42488  |  19.05070   |  21.05067   |  16.050747  |   6.175901  |  18.300712  |  13.175792  |   46.42527  |  36.42543   |  11.80081   |   43.92531  |  22.300649  |  53.30017   |  39.17539   |  0.17599512 | -12.82380   |  -1.448979  |    8.925858 |\n",
       "\n"
      ],
      "text/plain": [
       "     c1         c2        c3        c4         c6         c7         c8        \n",
       "3001 -142.94677 -72.69787 -36.94842 -28.698554 -20.573681 -24.823614 -16.448745\n",
       "3002 -155.32158 -68.44793 -36.07344 -20.698679 -23.948628 -15.073767 -11.073829\n",
       "3003  -96.82249 -50.19822 -10.07384 -15.448761  -9.948847  -4.823927 -34.573462\n",
       "3004  -68.82293 -38.19841 -19.57370  -9.323856   6.050903   3.175948   5.925905\n",
       "3005  101.42441  35.30045  20.17568  14.300774  83.674690  32.550489  56.925108\n",
       "3006   71.42488  19.05070  21.05067  16.050747   6.175901  18.300712  13.175792\n",
       "     c10        c11       c12       c13        c14        c17       c18      \n",
       "3001  -97.94747 -47.19826 -29.94853 -119.94713 -59.448073 -74.57284 -34.94846\n",
       "3002 -108.94730 -54.94814 -31.44851 -140.44681 -34.823458 -87.57263 -43.69832\n",
       "3003  -80.44775 -25.69860 -11.57382 -129.82197 -28.073563 -46.44828 -21.44867\n",
       "3004  -47.57326 -19.07370 -11.07383  -97.07249  -7.698882 -32.82349 -19.94869\n",
       "3005   28.80055  22.80064  15.80075   52.05018  40.550364  37.55041  16.30074\n",
       "3006   46.42527  36.42543  11.80081   43.92531  22.300649  53.30017  39.17539\n",
       "     c19         c20       c21        c22        \n",
       "3001 -0.32399707  -7.82388 -18.323716 -171.321325\n",
       "3002 -0.07400098  33.80047  -9.948847  600.041622\n",
       "3003 -0.44899512  15.05076 -23.698632   30.800517\n",
       "3004 -0.07400098  13.05079  -6.448901  100.049435\n",
       "3005 -0.07400098  78.17478  55.175136   90.049591\n",
       "3006  0.17599512 -12.82380  -1.448979    8.925858"
      ]
     },
     "metadata": {},
     "output_type": "display_data"
    }
   ],
   "source": [
    "head(train_mat)\n",
    "head(test_mat)"
   ]
  },
  {
   "cell_type": "code",
   "execution_count": 26,
   "metadata": {},
   "outputs": [],
   "source": [
    "# AutoEncoder\n",
    "# install.packages('autoencoder')\n",
    "library(autoencoder)"
   ]
  },
  {
   "cell_type": "code",
   "execution_count": 27,
   "metadata": {},
   "outputs": [
    {
     "data": {
      "text/html": [
       "<dl>\n",
       "\t<dt>$names</dt>\n",
       "\t\t<dd><ol class=list-inline>\n",
       "\t<li>'W'</li>\n",
       "\t<li>'b'</li>\n",
       "\t<li>'unit.type'</li>\n",
       "\t<li>'rescaling'</li>\n",
       "\t<li>'nl'</li>\n",
       "\t<li>'sl'</li>\n",
       "\t<li>'N.input'</li>\n",
       "\t<li>'N.hidden'</li>\n",
       "\t<li>'mean.error.training.set'</li>\n",
       "\t<li>'mean.error.test.set'</li>\n",
       "</ol>\n",
       "</dd>\n",
       "\t<dt>$class</dt>\n",
       "\t\t<dd>'autoencoder'</dd>\n",
       "</dl>\n"
      ],
      "text/latex": [
       "\\begin{description}\n",
       "\\item[\\$names] \\begin{enumerate*}\n",
       "\\item 'W'\n",
       "\\item 'b'\n",
       "\\item 'unit.type'\n",
       "\\item 'rescaling'\n",
       "\\item 'nl'\n",
       "\\item 'sl'\n",
       "\\item 'N.input'\n",
       "\\item 'N.hidden'\n",
       "\\item 'mean.error.training.set'\n",
       "\\item 'mean.error.test.set'\n",
       "\\end{enumerate*}\n",
       "\n",
       "\\item[\\$class] 'autoencoder'\n",
       "\\end{description}\n"
      ],
      "text/markdown": [
       "$names\n",
       ":   1. 'W'\n",
       "2. 'b'\n",
       "3. 'unit.type'\n",
       "4. 'rescaling'\n",
       "5. 'nl'\n",
       "6. 'sl'\n",
       "7. 'N.input'\n",
       "8. 'N.hidden'\n",
       "9. 'mean.error.training.set'\n",
       "10. 'mean.error.test.set'\n",
       "\n",
       "\n",
       "\n",
       "$class\n",
       ":   'autoencoder'\n",
       "\n",
       "\n"
      ],
      "text/plain": [
       "$names\n",
       " [1] \"W\"                       \"b\"                      \n",
       " [3] \"unit.type\"               \"rescaling\"              \n",
       " [5] \"nl\"                      \"sl\"                     \n",
       " [7] \"N.input\"                 \"N.hidden\"               \n",
       " [9] \"mean.error.training.set\" \"mean.error.test.set\"    \n",
       "\n",
       "$class\n",
       "[1] \"autoencoder\"\n"
      ]
     },
     "metadata": {},
     "output_type": "display_data"
    }
   ],
   "source": [
    "attributes(fit)"
   ]
  },
  {
   "cell_type": "code",
   "execution_count": 33,
   "metadata": {},
   "outputs": [],
   "source": [
    "# AutoEncoder Parameter\n",
    "nl=3 ## number of layers (default is 3: input, hidden, output)\n",
    "unit.type = \"logistic\" ## specify the network unit type, i.e., the unit's\n",
    "## activation function (\"logistic\" or \"tanh\")\n",
    "\n",
    "N.input = 15 ## number of units (neurons) in the input layer (one unit per pixel)\n",
    "N.hidden = 5 ## number of units in the hidden layer\n",
    "lambda = 0.0002 ## weight decay parameter\n",
    "beta = 6 ## weight of sparsity penalty term\n",
    "rho = 0.01 ## desired sparsity parameter\n",
    "epsilon <- 0.001 ## a small parameter for initialization of weights\n",
    "## as small gaussian random numbers sampled from N(0,epsilon^2)\n",
    "max.iterations = 100 ## number of iterations in optimizer"
   ]
  },
  {
   "cell_type": "code",
   "execution_count": 29,
   "metadata": {},
   "outputs": [
    {
     "name": "stdout",
     "output_type": "stream",
     "text": [
      "autoencoding...\n",
      "Optimizer counts:\n",
      "function gradient \n",
      "      74       68 \n",
      "Optimizer: successful convergence.\n",
      "Optimizer: convergence = 0, message = \n",
      "J.init = 19.27266, J.final = 0.007760414, mean(rho.hat.final) = 0.009999999\n"
     ]
    }
   ],
   "source": [
    "fit <- autoencode(X.train=train_mat,nl=nl,N.hidden=N.hidden,\n",
    "                  unit.type=unit.type,lambda=lambda,beta=beta,rho=rho,epsilon=epsilon,\n",
    "                  optim.method=\"BFGS\",max.iterations=max.iterations,\n",
    "                  rescale.flag=TRUE,rescaling.offset=0.001)"
   ]
  },
  {
   "cell_type": "code",
   "execution_count": 30,
   "metadata": {},
   "outputs": [
    {
     "data": {
      "text/html": [
       "<dl>\n",
       "\t<dt>$names</dt>\n",
       "\t\t<dd><ol class=list-inline>\n",
       "\t<li>'W'</li>\n",
       "\t<li>'b'</li>\n",
       "\t<li>'unit.type'</li>\n",
       "\t<li>'rescaling'</li>\n",
       "\t<li>'nl'</li>\n",
       "\t<li>'sl'</li>\n",
       "\t<li>'N.input'</li>\n",
       "\t<li>'N.hidden'</li>\n",
       "\t<li>'mean.error.training.set'</li>\n",
       "\t<li>'mean.error.test.set'</li>\n",
       "</ol>\n",
       "</dd>\n",
       "\t<dt>$class</dt>\n",
       "\t\t<dd>'autoencoder'</dd>\n",
       "</dl>\n"
      ],
      "text/latex": [
       "\\begin{description}\n",
       "\\item[\\$names] \\begin{enumerate*}\n",
       "\\item 'W'\n",
       "\\item 'b'\n",
       "\\item 'unit.type'\n",
       "\\item 'rescaling'\n",
       "\\item 'nl'\n",
       "\\item 'sl'\n",
       "\\item 'N.input'\n",
       "\\item 'N.hidden'\n",
       "\\item 'mean.error.training.set'\n",
       "\\item 'mean.error.test.set'\n",
       "\\end{enumerate*}\n",
       "\n",
       "\\item[\\$class] 'autoencoder'\n",
       "\\end{description}\n"
      ],
      "text/markdown": [
       "$names\n",
       ":   1. 'W'\n",
       "2. 'b'\n",
       "3. 'unit.type'\n",
       "4. 'rescaling'\n",
       "5. 'nl'\n",
       "6. 'sl'\n",
       "7. 'N.input'\n",
       "8. 'N.hidden'\n",
       "9. 'mean.error.training.set'\n",
       "10. 'mean.error.test.set'\n",
       "\n",
       "\n",
       "\n",
       "$class\n",
       ":   'autoencoder'\n",
       "\n",
       "\n"
      ],
      "text/plain": [
       "$names\n",
       " [1] \"W\"                       \"b\"                      \n",
       " [3] \"unit.type\"               \"rescaling\"              \n",
       " [5] \"nl\"                      \"sl\"                     \n",
       " [7] \"N.input\"                 \"N.hidden\"               \n",
       " [9] \"mean.error.training.set\" \"mean.error.test.set\"    \n",
       "\n",
       "$class\n",
       "[1] \"autoencoder\"\n"
      ]
     },
     "metadata": {},
     "output_type": "display_data"
    }
   ],
   "source": [
    "attributes(fit)"
   ]
  },
  {
   "cell_type": "code",
   "execution_count": 31,
   "metadata": {},
   "outputs": [
    {
     "name": "stderr",
     "output_type": "stream",
     "text": [
      "Warning message in if (hidden.output == FALSE) {:\n",
      "\"length > 1 이라는 조건이 있고, 첫번째 요소만이 사용될 것입니다\"Warning message in if (hidden.output == TRUE) {:\n",
      "\"length > 1 이라는 조건이 있고, 첫번째 요소만이 사용될 것입니다\""
     ]
    }
   ],
   "source": [
    "# reconstruction X\n",
    "train_pred = predict(fit, train_mat)\n",
    "pred_train_x = train_pred$X.output"
   ]
  },
  {
   "cell_type": "code",
   "execution_count": 32,
   "metadata": {},
   "outputs": [],
   "source": [
    "# train reconstruction error\n",
    "train_recon_error = sqrt(rowSums((train_mat-pred_train_x)^2))"
   ]
  },
  {
   "cell_type": "code",
   "execution_count": 13,
   "metadata": {},
   "outputs": [
    {
     "data": {
      "image/png": "[encoded data removed]",
      "text/plain": [
       "plot without title"
      ]
     },
     "metadata": {},
     "output_type": "display_data"
    }
   ],
   "source": [
    "# plot train reconstruction error\n",
    "plot(train_recon_error)"
   ]
  },
  {
   "cell_type": "code",
   "execution_count": 15,
   "metadata": {},
   "outputs": [],
   "source": [
    "# bootstrap을 이용한 UCL, LCL 산출\n",
    "bootlimit <- function(stat, alpha, m){ \n",
    "  sam_mat = matrix(0,1,m)\n",
    "  ucl_mat = matrix(0,1,m)\n",
    "  lcl_mat = matrix(0,1,m)\n",
    "  \n",
    "  for(i in 1:m){\n",
    "    sample_temp = sample(stat, size=length(stat), replace=T, prob=NULL)\n",
    "    ucl = quantile(sample_temp, (1-(alpha/2)))\n",
    "    lcl = quantile(sample_temp, (alpha)/2)\n",
    "    ucl_mat[,i] = ucl\n",
    "    lcl_mat[,i] = lcl\n",
    "  }\n",
    "  ucl = mean(ucl_mat)\n",
    "  lcl = mean(lcl_mat)  \n",
    "  \n",
    "  ret = list(ucl=ucl, lcl=lcl)\n",
    "  \n",
    "  return(ret)\n",
    "}"
   ]
  },
  {
   "cell_type": "code",
   "execution_count": 16,
   "metadata": {},
   "outputs": [],
   "source": [
    "# bootstrap based UCL, LCL\n",
    "cl = bootlimit(train_recon_error, 0.05, m=1000)\n",
    "limits = matrix(0,2,1)\n",
    "limits[1,1] = cl$ucl\n",
    "limits[2,1] = cl$lcl"
   ]
  },
  {
   "cell_type": "code",
   "execution_count": 17,
   "metadata": {},
   "outputs": [
    {
     "data": {
      "text/html": [
       "<table>\n",
       "<tbody>\n",
       "\t<tr><td>1013.10708</td></tr>\n",
       "\t<tr><td>  52.42013</td></tr>\n",
       "</tbody>\n",
       "</table>\n"
      ],
      "text/latex": [
       "\\begin{tabular}{l}\n",
       "\t 1013.10708\\\\\n",
       "\t   52.42013\\\\\n",
       "\\end{tabular}\n"
      ],
      "text/markdown": [
       "\n",
       "| 1013.10708 |\n",
       "|   52.42013 |\n",
       "\n"
      ],
      "text/plain": [
       "     [,1]      \n",
       "[1,] 1013.10708\n",
       "[2,]   52.42013"
      ]
     },
     "metadata": {},
     "output_type": "display_data"
    }
   ],
   "source": [
    "# 위: UCL, 아래: LCL\n",
    "limits"
   ]
  },
  {
   "cell_type": "code",
   "execution_count": 18,
   "metadata": {},
   "outputs": [
    {
     "data": {
      "image/png": "[encoded data removed]",
      "text/plain": [
       "Plot with title \"MSET Autoencoder Anomaly Detection train reconstruction error\""
      ]
     },
     "metadata": {},
     "output_type": "display_data"
    }
   ],
   "source": [
    "plot(train_recon_error, main='MSET Autoencoder Anomaly Detection train reconstruction error')\n",
    "abline(h=limits[1,], col='red', lwd=2)\n",
    "abline(h=limits[2,], col='red', lwd=2)"
   ]
  },
  {
   "cell_type": "code",
   "execution_count": 19,
   "metadata": {},
   "outputs": [
    {
     "name": "stderr",
     "output_type": "stream",
     "text": [
      "Warning message in if (hidden.output == FALSE) {:\n",
      "\"length > 1 이라는 조건이 있고, 첫번째 요소만이 사용될 것입니다\"Warning message in if (hidden.output == TRUE) {:\n",
      "\"length > 1 이라는 조건이 있고, 첫번째 요소만이 사용될 것입니다\""
     ]
    }
   ],
   "source": [
    "# apply to test data\n",
    "test_pred = predict(fit,test_mat)\n",
    "pred_test_x = test_pred$X.output\n",
    "test_recon_error = sqrt(rowSums((test_mat - pred_test_x)^2))"
   ]
  },
  {
   "cell_type": "code",
   "execution_count": 22,
   "metadata": {},
   "outputs": [
    {
     "data": {
      "image/png": "[encoded data removed]",
      "text/plain": [
       "Plot with title \"MSET Autoencoder Anomaly Detection\""
      ]
     },
     "metadata": {},
     "output_type": "display_data"
    }
   ],
   "source": [
    "outlier = test_recon_error>limits[1,] | test_recon_error<limits[2,]\n",
    "\n",
    "par(mfrow=c(2,1))\n",
    "plot(test_recon_error, main='MSET Autoencoder Anomaly Detection', col=outlier+1)\n",
    "abline(h=limits[1,], col='red', lwd=2)\n",
    "abline(h=limits[2,], col='red', lwd=2)"
   ]
  },
  {
   "cell_type": "code",
   "execution_count": null,
   "metadata": {},
   "outputs": [],
   "source": []
  }
 ],
 "metadata": {
  "kernelspec": {
   "display_name": "R",
   "language": "R",
   "name": "ir"
  },
  "language_info": {
   "codemirror_mode": "r",
   "file_extension": ".r",
   "mimetype": "text/x-r-source",
   "name": "R",
   "pygments_lexer": "r",
   "version": "3.6.1"
  }
 },
 "nbformat": 4,
 "nbformat_minor": 4
}
