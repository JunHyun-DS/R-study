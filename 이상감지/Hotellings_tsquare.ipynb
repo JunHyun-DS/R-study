{
 "cells": [
  {
   "cell_type": "markdown",
   "metadata": {},
   "source": [
    "<b><h3>Hotelling's T-square Anomaly Detection</h3></b>"
   ]
  },
  {
   "cell_type": "code",
   "execution_count": 4,
   "metadata": {},
   "outputs": [],
   "source": [
    "hotteling_tsquare = function(train, test, alpha=0.05){\n",
    "  ## Control Limit\n",
    "  obs = nrow(train) # row수\n",
    "  dim = ncol(train) # col수\n",
    "  \n",
    "  mu = colMeans(train) \n",
    "  \n",
    "  mu_mat = matrix(mu, nrow(test), ncol(test), byrow=T)\n",
    "  \n",
    "  # qf: F-distribution\n",
    "  CL = qf(1-alpha, dim, obs-dim) * (dim*(obs+1)*(obs-1)/(obs*(obs-dim)))\n",
    "\n",
    "  # hottelings t-square의 cov 역수\n",
    "  w = solve(cov(train))\n",
    "  gap = test - mu_mat\n",
    "  \n",
    "  # t-square matrix\n",
    "  tsq_mat = matrix(0, nrow(test), 1)\n",
    "  for(i in 1:nrow(test)){\n",
    "    tsq_mat[i,1] = as.double(gap[i,]) %*% w %*% t(t(as.double(gap[i,])))\n",
    "  }\n",
    "  ret = list(tsq_mat = tsq_mat, CL = CL)\n",
    "  \n",
    "  return(ret)\n",
    "}"
   ]
  },
  {
   "cell_type": "code",
   "execution_count": 5,
   "metadata": {},
   "outputs": [],
   "source": [
    "df = iris[,-5]\n",
    "train = df[1:100,]\n",
    "test = df[101:150,]"
   ]
  },
  {
   "cell_type": "code",
   "execution_count": 6,
   "metadata": {},
   "outputs": [],
   "source": [
    "maha = hotteling_tsquare(train, test, alpha=.05)"
   ]
  },
  {
   "cell_type": "code",
   "execution_count": 7,
   "metadata": {},
   "outputs": [],
   "source": [
    "tsquare = maha$tsq_mat\n",
    "cl = maha$CL"
   ]
  },
  {
   "cell_type": "code",
   "execution_count": 8,
   "metadata": {},
   "outputs": [],
   "source": [
    "outlier = tsquare>cl"
   ]
  },
  {
   "cell_type": "code",
   "execution_count": 13,
   "metadata": {},
   "outputs": [
    {
     "data": {
      "image/png": "[encoded data removed]",
      "text/plain": [
       "plot without title"
      ]
     },
     "metadata": {},
     "output_type": "display_data"
    }
   ],
   "source": [
    "par(mfrow = c(2,1))\n",
    "plot(tsquare, type='p', lwd=2, col=outlier+1)\n",
    "abline(h=cl, col='red', lwd=2)"
   ]
  }
 ],
 "metadata": {
  "kernelspec": {
   "display_name": "R",
   "language": "R",
   "name": "ir"
  },
  "language_info": {
   "codemirror_mode": "r",
   "file_extension": ".r",
   "mimetype": "text/x-r-source",
   "name": "R",
   "pygments_lexer": "r",
   "version": "3.6.1"
  }
 },
 "nbformat": 4,
 "nbformat_minor": 4
}
